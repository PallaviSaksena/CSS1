{
  "nbformat": 4,
  "nbformat_minor": 0,
  "metadata": {
    "colab": {
      "name": "Saksena_CSS1Final.ipynb",
      "provenance": [],
      "collapsed_sections": []
    },
    "kernelspec": {
      "name": "python3",
      "display_name": "Python 3"
    }
  },
  "cells": [
    {
      "cell_type": "markdown",
      "metadata": {
        "id": "GCXkVksPbF1Z"
      },
      "source": [
        "# 1: Optimize Code"
      ]
    },
    {
      "cell_type": "code",
      "metadata": {
        "id": "sg1FelzU4JLF"
      },
      "source": [
        "# import numpy and random\r\n",
        "import numpy as np\r\n",
        "import random as random\r\n",
        "\r\n",
        "# define the number of data points\r\n",
        "N = 10\r\n",
        "\r\n",
        "# fill up two lists  with list comprehension\r\n",
        "data1 = [np.random.randint(0, 10) for i in range(N)]\r\n",
        "data2 = [np.random.randint(10, 100) for i in range(N)]\r\n",
        "\r\n",
        "# sort data1 and data2 in ascending order\r\n",
        "data1.sort()\r\n",
        "data2.sort()"
      ],
      "execution_count": 23,
      "outputs": []
    },
    {
      "cell_type": "markdown",
      "metadata": {
        "id": "7p03V8MgbHy5"
      },
      "source": [
        "# 2: Z Score Function"
      ]
    },
    {
      "cell_type": "code",
      "metadata": {
        "id": "j5OWy0w2bbml",
        "colab": {
          "base_uri": "https://localhost:8080/"
        },
        "outputId": "6d1167ca-1da9-4155-d0c1-73a3603eb313"
      },
      "source": [
        "# import pandas and numpy\r\n",
        "import pandas as pd\r\n",
        "import numpy as np\r\n",
        "\r\n",
        "# create data list\r\n",
        "data = [1, 2, 3, 188, 5, 7, 4, 17, -97, 23, 5, 84, 6, 7, 5, 3, 400, 10]\r\n",
        "\r\n",
        "# make another list of labels with same length as 'data'\r\n",
        "labels = []\r\n",
        "\r\n",
        "for n in range(1, len(data) + 1):\r\n",
        "  labels.append('number-' + str(n))\r\n",
        "\r\n",
        "# make pandas series with data and labels\r\n",
        "s = pd.Series(data, index = labels)\r\n",
        "print (s)\r\n",
        "print ()\r\n",
        "\r\n",
        "# print mean and std deviation\r\n",
        "pd_mean = round(np.mean(s), 2)\r\n",
        "pd_std = round(np.std(s), 2)\r\n",
        "\r\n",
        "print ('mean:', pd_mean)\r\n",
        "print ('std:', pd_std)\r\n",
        "print ()\r\n",
        "\r\n",
        "# write function\r\n",
        "  # takes in pandas series\r\n",
        "  # computes z score of all data points in pandas series\r\n",
        "  # removes data points whose absolute values of z scores >= 1\r\n",
        "  # return new pandas series\r\n",
        "\r\n",
        "outlier_list = []\r\n",
        "\r\n",
        "def rem(s):\r\n",
        "  \r\n",
        "  mu = pd_mean\r\n",
        "  std = pd_std\r\n",
        "\r\n",
        "  for x in s:\r\n",
        "    z = (x - mu) / std\r\n",
        "    if abs(z) >= 1:\r\n",
        "      outlier_list.append(x)\r\n",
        "  \r\n",
        "  for x in outlier_list:\r\n",
        "    s = s[s != x]\r\n",
        "  \r\n",
        "  return s\r\n",
        "\r\n",
        "new_s = rem(s)\r\n",
        "print (new_s)\r\n",
        "print (outlier_list)\r\n",
        "print ()\r\n",
        "\r\n",
        "# recompute mean of new series\r\n",
        "new_pd_mean = round(np.mean(new_s), 2)\r\n",
        "print ('new mean:', new_pd_mean)\r\n",
        "print ()\r\n",
        "\r\n",
        "# compute how many data points removed\r\n",
        "print ('number data points removed:', len(outlier_list))"
      ],
      "execution_count": 1,
      "outputs": [
        {
          "output_type": "stream",
          "text": [
            "number-1       1\n",
            "number-2       2\n",
            "number-3       3\n",
            "number-4     188\n",
            "number-5       5\n",
            "number-6       7\n",
            "number-7       4\n",
            "number-8      17\n",
            "number-9     -97\n",
            "number-10     23\n",
            "number-11      5\n",
            "number-12     84\n",
            "number-13      6\n",
            "number-14      7\n",
            "number-15      5\n",
            "number-16      3\n",
            "number-17    400\n",
            "number-18     10\n",
            "dtype: int64\n",
            "\n",
            "mean: 37.39\n",
            "std: 102.15\n",
            "\n",
            "number-1      1\n",
            "number-2      2\n",
            "number-3      3\n",
            "number-5      5\n",
            "number-6      7\n",
            "number-7      4\n",
            "number-8     17\n",
            "number-10    23\n",
            "number-11     5\n",
            "number-12    84\n",
            "number-13     6\n",
            "number-14     7\n",
            "number-15     5\n",
            "number-16     3\n",
            "number-18    10\n",
            "dtype: int64\n",
            "[188, -97, 400]\n",
            "\n",
            "new mean: 12.13\n",
            "\n",
            "number data points removed: 3\n"
          ],
          "name": "stdout"
        }
      ]
    },
    {
      "cell_type": "markdown",
      "metadata": {
        "id": "Cj3fn7HjcfE_"
      },
      "source": [
        "# 3: Absolute Value and MAE"
      ]
    },
    {
      "cell_type": "code",
      "metadata": {
        "id": "wwUBeL9rcf7r",
        "colab": {
          "base_uri": "https://localhost:8080/"
        },
        "outputId": "933db2ca-f71c-49db-dbf5-b9aeaf765879"
      },
      "source": [
        "# import random module\r\n",
        "import random as random\r\n",
        "\r\n",
        "# seed random number generator with (0) and generate two lists of pseudo-random numbers\r\n",
        "random.seed(0)\r\n",
        "\r\n",
        "N = 10\r\n",
        "\r\n",
        "list1 = []\r\n",
        "list2 = []\r\n",
        "\r\n",
        "for i in range(N):\r\n",
        "  list1.append(random.random())\r\n",
        "  list2.append(random.random())\r\n",
        "\r\n",
        "print ('List 1:', list1)\r\n",
        "print ('List 2:', list2)\r\n",
        "print ()\r\n",
        "\r\n",
        "# write functions\r\n",
        "  # take in two lists of random numbers of any length\r\n",
        "  # check that they are the same length\r\n",
        "  # return results\r\n",
        "\r\n",
        "# 1: compute element-by-element abs value of differences between the lists, and assign results to new list\r\n",
        "\r\n",
        "abs_val_diffs = []\r\n",
        "\r\n",
        "def abs_value(first_list, second_list):\r\n",
        "\r\n",
        "  for i in range(N):\r\n",
        "    if len(first_list) == len(second_list):\r\n",
        "      abs_val_diffs.append(abs(first_list[i] - second_list[i]))\r\n",
        "\r\n",
        "  return abs_val_diffs\r\n",
        "\r\n",
        "print (abs_value(list1, list2))\r\n",
        "print ()\r\n",
        "\r\n",
        "# 2: compute mean absolute difference between lists\r\n",
        "\r\n",
        "def MAE(first_list, second_list):\r\n",
        "\r\n",
        "  abs_val_list = []\r\n",
        "\r\n",
        "  for i in range(N):\r\n",
        "    if len(first_list) == len(second_list):\r\n",
        "      abs_val_list.append(abs(first_list[i] - second_list[i]))\r\n",
        "\r\n",
        "  MAE = sum(abs_val_list) / len(abs_val_list)\r\n",
        "\r\n",
        "  return MAE\r\n",
        "\r\n",
        "MAE(list1, list2)"
      ],
      "execution_count": 2,
      "outputs": [
        {
          "output_type": "stream",
          "text": [
            "List 1: [0.8444218515250481, 0.420571580830845, 0.5112747213686085, 0.7837985890347726, 0.4765969541523558, 0.9081128851953352, 0.28183784439970383, 0.6183689966753316, 0.9097462559682401, 0.8102172359965896]\n",
            "List 2: [0.7579544029403025, 0.25891675029296335, 0.4049341374504143, 0.30331272607892745, 0.5833820394550312, 0.5046868558173903, 0.7558042041572239, 0.25050634136244054, 0.9827854760376531, 0.9021659504395827]\n",
            "\n",
            "[0.08646744858474564, 0.16165483053788166, 0.10634058391819423, 0.48048586295584517, 0.10678508530267539, 0.4034260293779449, 0.4739663597575201, 0.3678626553128911, 0.07303922006941299, 0.09194871444299313]\n",
            "\n"
          ],
          "name": "stdout"
        },
        {
          "output_type": "execute_result",
          "data": {
            "text/plain": [
              "0.23519767902601046"
            ]
          },
          "metadata": {
            "tags": []
          },
          "execution_count": 2
        }
      ]
    },
    {
      "cell_type": "markdown",
      "metadata": {
        "id": "kwBXB-HnclFo"
      },
      "source": [
        "# 4:"
      ]
    },
    {
      "cell_type": "code",
      "metadata": {
        "id": "BYNUdlaycl18"
      },
      "source": [
        "# import pandas, numpy, and files\r\n",
        "import pandas as pd\r\n",
        "import numpy as np\r\n",
        "from google.colab import files"
      ],
      "execution_count": 3,
      "outputs": []
    },
    {
      "cell_type": "code",
      "metadata": {
        "id": "aGXLPqtz4E7e",
        "colab": {
          "resources": {
            "http://localhost:8080/nbextensions/google.colab/files.js": {
              "data": "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",
              "ok": true,
              "headers": [
                [
                  "content-type",
                  "application/javascript"
                ]
              ],
              "status": 200,
              "status_text": ""
            }
          },
          "base_uri": "https://localhost:8080/",
          "height": 111
        },
        "outputId": "dc91c0ed-2a7a-4763-cbd8-5c275db31939"
      },
      "source": [
        "# upload annual temp csv\r\n",
        "files.upload()"
      ],
      "execution_count": 7,
      "outputs": [
        {
          "output_type": "display_data",
          "data": {
            "text/html": [
              "\n",
              "     <input type=\"file\" id=\"files-3009a3f5-4b41-4657-ba43-8171d19cf579\" name=\"files[]\" multiple disabled\n",
              "        style=\"border:none\" />\n",
              "     <output id=\"result-3009a3f5-4b41-4657-ba43-8171d19cf579\">\n",
              "      Upload widget is only available when the cell has been executed in the\n",
              "      current browser session. Please rerun this cell to enable.\n",
              "      </output>\n",
              "      <script src=\"/nbextensions/google.colab/files.js\"></script> "
            ],
            "text/plain": [
              "<IPython.core.display.HTML object>"
            ]
          },
          "metadata": {
            "tags": []
          }
        },
        {
          "output_type": "stream",
          "text": [
            "Saving annual_temp_csv2.csv to annual_temp_csv2.csv\n"
          ],
          "name": "stdout"
        },
        {
          "output_type": "execute_result",
          "data": {
            "text/plain": [
              "{'annual_temp_csv2.csv': b'Source,Year,Mean\\r\\nGCAG,2016,0.9363\\r\\nGISTEMP,2016,\\r\\nGCAG,2015,\\r\\nGISTEMP,2015,0.87\\r\\nGCAG,2014,0.7408\\r\\nGISTEMP,2014,0.74\\r\\nGCAG,2013,0.6679\\r\\nGISTEMP,2013,0.65\\r\\nGCAG,2012,0.624\\r\\nGISTEMP,2012,0.63\\r\\nGCAG,2011,0.5788\\r\\nGISTEMP,2011,0.6\\r\\nGCAG,2010,0.7014\\r\\nGISTEMP,2010,0.71\\r\\nGCAG,2009,0.6367\\r\\nGISTEMP,2009,0.64\\r\\nGCAG,2008,0.5419\\r\\nGISTEMP,2008,0.54\\r\\nGCAG,2007,0.61\\r\\nGISTEMP,2007,0.66\\r\\nGCAG,2006,0.6125\\r\\nGISTEMP,2006,0.63\\r\\nGCAG,2005,0.6585\\r\\nGISTEMP,2005,0.69\\r\\nGCAG,2004,0.5783\\r\\nGISTEMP,2004,0.55\\r\\nGCAG,2003,0.6134\\r\\nGISTEMP,2003,0.62\\r\\nGCAG,2002,0.6023\\r\\nGISTEMP,2002,0.63\\r\\nGCAG,2001,0.5473\\r\\nGISTEMP,2001,0.55\\r\\nGCAG,2000,0.4262\\r\\nGISTEMP,2000,0.42\\r\\nGCAG,1999,0.4438\\r\\nGISTEMP,1999,0.42\\r\\nGCAG,1998,0.6344\\r\\nGISTEMP,1998,0.64\\r\\nGCAG,1997,0.5187\\r\\nGISTEMP,1997,0.48\\r\\nGCAG,1996,0.3228\\r\\nGISTEMP,1996,0.35\\r\\nGCAG,1995,0.4577\\r\\nGISTEMP,1995,0.46\\r\\nGCAG,1994,0.3409\\r\\nGISTEMP,1994,0.32\\r\\nGCAG,1993,0.2853\\r\\nGISTEMP,1993,0.24\\r\\nGCAG,1992,0.2571\\r\\nGISTEMP,1992,0.23\\r\\nGCAG,1991,0.4055\\r\\nGISTEMP,1991,0.43\\r\\nGCAG,1990,0.4328\\r\\nGISTEMP,1990,0.44\\r\\nGCAG,1989,0.297\\r\\nGISTEMP,1989,0.29\\r\\nGCAG,1988,0.3757\\r\\nGISTEMP,1988,0.41\\r\\nGCAG,1987,0.3696\\r\\nGISTEMP,1987,0.33\\r\\nGCAG,1986,0.2296\\r\\nGISTEMP,1986,0.19\\r\\nGCAG,1985,0.1342\\r\\nGISTEMP,1985,0.12\\r\\nGCAG,1984,0.149\\r\\nGISTEMP,1984,0.15\\r\\nGCAG,1983,0.3411\\r\\nGISTEMP,1983,0.3\\r\\nGCAG,1982,0.1815\\r\\nGISTEMP,1982,0.13\\r\\nGCAG,1981,0.2999\\r\\nGISTEMP,1981,0.33\\r\\nGCAG,1980,0.2637\\r\\nGISTEMP,1980,0.27\\r\\nGCAG,1979,0.2273\\r\\nGISTEMP,1979,0.17\\r\\nGCAG,1978,0.1123\\r\\nGISTEMP,1978,0.07\\r\\nGCAG,1977,0.1978\\r\\nGISTEMP,1977,0.18\\r\\nGCAG,1976,-0.0792\\r\\nGISTEMP,1976,-0.11\\r\\nGCAG,1975,0.0034\\r\\nGISTEMP,1975,-0.02\\r\\nGCAG,1974,-0.0719\\r\\nGISTEMP,1974,-0.07\\r\\nGCAG,1973,0.1641\\r\\nGISTEMP,1973,0.15\\r\\nGCAG,1972,0.0264\\r\\nGISTEMP,1972,0.01\\r\\nGCAG,1971,-0.0783\\r\\nGISTEMP,1971,-0.09\\r\\nGCAG,1970,0.0372\\r\\nGISTEMP,1970,0.02\\r\\nGCAG,1969,0.0929\\r\\nGISTEMP,1969,0.07\\r\\nGCAG,1968,-0.0296\\r\\nGISTEMP,1968,-0.07\\r\\nGCAG,1967,-0.0131\\r\\nGISTEMP,1967,-0.02\\r\\nGCAG,1966,-0.0227\\r\\nGISTEMP,1966,-0.05\\r\\nGCAG,1965,-0.078\\r\\nGISTEMP,1965,-0.1\\r\\nGCAG,1964,-0.1495\\r\\nGISTEMP,1964,-0.2\\r\\nGCAG,1963,0.1068\\r\\nGISTEMP,1963,0.06\\r\\nGCAG,1962,0.0888\\r\\nGISTEMP,1962,0.03\\r\\nGCAG,1961,0.0775\\r\\nGISTEMP,1961,0.05\\r\\nGCAG,1960,0.0204\\r\\nGISTEMP,1960,-0.02\\r\\nGCAG,1959,0.0596\\r\\nGISTEMP,1959,0.03\\r\\nGCAG,1958,0.1095\\r\\nGISTEMP,1958,0.07\\r\\nGCAG,1957,0.0488\\r\\nGISTEMP,1957,0.04\\r\\nGCAG,1956,-0.199\\r\\nGISTEMP,1956,-0.2\\r\\nGCAG,1955,-0.1354\\r\\nGISTEMP,1955,-0.15\\r\\nGCAG,1954,-0.1165\\r\\nGISTEMP,1954,-0.13\\r\\nGCAG,1953,0.0952\\r\\nGISTEMP,1953,0.08\\r\\nGCAG,1952,0.0248\\r\\nGISTEMP,1952,0.01\\r\\nGCAG,1951,-0.0132\\r\\nGISTEMP,1951,-0.07\\r\\nGCAG,1950,-0.1616\\r\\nGISTEMP,1950,-0.18\\r\\nGCAG,1949,-0.0568\\r\\nGISTEMP,1949,-0.09\\r\\nGCAG,1948,-0.0487\\r\\nGISTEMP,1948,-0.09\\r\\nGCAG,1947,-0.0477\\r\\nGISTEMP,1947,-0.05\\r\\nGCAG,1946,-0.004\\r\\nGISTEMP,1946,-0.04\\r\\nGCAG,1945,0.171\\r\\nGISTEMP,1945,0.12\\r\\nGCAG,1944,0.2928\\r\\nGISTEMP,1944,0.25\\r\\nGCAG,1943,0.157\\r\\nGISTEMP,1943,0.13\\r\\nGCAG,1942,0.1538\\r\\nGISTEMP,1942,0.09\\r\\nGCAG,1941,0.196\\r\\nGISTEMP,1941,0.12\\r\\nGCAG,1940,0.0947\\r\\nGISTEMP,1940,0.08\\r\\nGCAG,1939,-0.0139\\r\\nGISTEMP,1939,-0.03\\r\\nGCAG,1938,-0.0288\\r\\nGISTEMP,1938,-0.03\\r\\nGCAG,1937,-0.0157\\r\\nGISTEMP,1937,-0.03\\r\\nGCAG,1936,-0.1134\\r\\nGISTEMP,1936,-0.15\\r\\nGCAG,1935,-0.1392\\r\\nGISTEMP,1935,-0.2\\r\\nGCAG,1934,-0.1015\\r\\nGISTEMP,1934,-0.14\\r\\nGCAG,1933,-0.2439\\r\\nGISTEMP,1933,-0.29\\r\\nGCAG,1932,-0.1168\\r\\nGISTEMP,1932,-0.17\\r\\nGCAG,1931,-0.0686\\r\\nGISTEMP,1931,-0.09\\r\\nGCAG,1930,-0.1003\\r\\nGISTEMP,1930,-0.15\\r\\nGCAG,1929,-0.2985\\r\\nGISTEMP,1929,-0.36\\r\\nGCAG,1928,-0.1774\\r\\nGISTEMP,1928,-0.21\\r\\nGCAG,1927,-0.1546\\r\\nGISTEMP,1927,-0.21\\r\\nGCAG,1926,-0.0667\\r\\nGISTEMP,1926,-0.1\\r\\nGCAG,1925,-0.1481\\r\\nGISTEMP,1925,-0.21\\r\\nGCAG,1924,-0.2486\\r\\nGISTEMP,1924,-0.28\\r\\nGCAG,1923,-0.2156\\r\\nGISTEMP,1923,-0.24\\r\\nGCAG,1922,-0.2304\\r\\nGISTEMP,1922,-0.28\\r\\nGCAG,1921,-0.1485\\r\\nGISTEMP,1921,-0.21\\r\\nGCAG,1920,-0.2105\\r\\nGISTEMP,1920,-0.27\\r\\nGCAG,1919,-0.2055\\r\\nGISTEMP,1919,-0.22\\r\\nGCAG,1918,-0.2084\\r\\nGISTEMP,1918,-0.26\\r\\nGCAG,1917,-0.3146\\r\\nGISTEMP,1917,-0.4\\r\\nGCAG,1916,-0.293\\r\\nGISTEMP,1916,-0.34\\r\\nGCAG,1915,-0.0693\\r\\nGISTEMP,1915,-0.11\\r\\nGCAG,1914,-0.1395\\r\\nGISTEMP,1914,-0.16\\r\\nGCAG,1913,-0.3162\\r\\nGISTEMP,1913,-0.34\\r\\nGCAG,1912,-0.3288\\r\\nGISTEMP,1912,-0.35\\r\\nGCAG,1911,-0.4332\\r\\nGISTEMP,1911,-0.44\\r\\nGCAG,1910,-0.3789\\r\\nGISTEMP,1910,-0.42\\r\\nGCAG,1909,-0.4261\\r\\nGISTEMP,1909,-0.47\\r\\nGCAG,1908,-0.4396\\r\\nGISTEMP,1908,-0.43\\r\\nGCAG,1907,-0.3706\\r\\nGISTEMP,1907,-0.4\\r\\nGCAG,1906,-0.2174\\r\\nGISTEMP,1906,-0.23\\r\\nGCAG,1905,-0.2931\\r\\nGISTEMP,1905,-0.28\\r\\nGCAG,1904,-0.4194\\r\\nGISTEMP,1904,-0.44\\r\\nGCAG,1903,-0.3369\\r\\nGISTEMP,1903,-0.35\\r\\nGCAG,1902,-0.2463\\r\\nGISTEMP,1902,-0.27\\r\\nGCAG,1901,-0.1417\\r\\nGISTEMP,1901,-0.15\\r\\nGCAG,1900,-0.0679\\r\\nGISTEMP,1900,-0.09\\r\\nGCAG,1899,-0.1173\\r\\nGISTEMP,1899,-0.16\\r\\nGCAG,1898,-0.2546\\r\\nGISTEMP,1898,\\r\\nGCAG,1897,\\r\\nGISTEMP,1897,\\r\\nGCAG,1896,-0.0974\\r\\nGISTEMP,1896,-0.15\\r\\nGCAG,1895,-0.229\\r\\nGISTEMP,1895,-0.21\\r\\nGCAG,1894,-0.2808\\r\\nGISTEMP,1894,-0.31\\r\\nGCAG,1893,-0.3212\\r\\nGISTEMP,1893,-0.3\\r\\nGCAG,1892,-0.3062\\r\\nGISTEMP,1892,-0.27\\r\\nGCAG,1891,-0.2532\\r\\nGISTEMP,1891,-0.24\\r\\nGCAG,1890,-0.322\\r\\nGISTEMP,1890,-0.37\\r\\nGCAG,1889,-0.0982\\r\\nGISTEMP,1889,-0.12\\r\\nGCAG,1888,-0.1471\\r\\nGISTEMP,1888,-0.2\\r\\nGCAG,1887,-0.2489\\r\\nGISTEMP,1887,-0.33\\r\\nGCAG,1886,-0.2003\\r\\nGISTEMP,1886,-0.31\\r\\nGCAG,1885,-0.2125\\r\\nGISTEMP,1885,-0.32\\r\\nGCAG,1884,-0.2009\\r\\nGISTEMP,1884,-0.28\\r\\nGCAG,1883,-0.1424\\r\\nGISTEMP,1883,-0.21\\r\\nGCAG,1882,-0.0648\\r\\nGISTEMP,1882,-0.1\\r\\nGCAG,1881,-0.0628\\r\\nGISTEMP,1881,-0.12\\r\\nGCAG,1880,-0.1148\\r\\nGISTEMP,1880,-0.2\\r\\n'}"
            ]
          },
          "metadata": {
            "tags": []
          },
          "execution_count": 7
        }
      ]
    },
    {
      "cell_type": "code",
      "metadata": {
        "id": "EAGTY60F4Gxt",
        "colab": {
          "resources": {
            "http://localhost:8080/nbextensions/google.colab/files.js": {
              "data": "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",
              "ok": true,
              "headers": [
                [
                  "content-type",
                  "application/javascript"
                ]
              ],
              "status": 200,
              "status_text": ""
            }
          },
          "base_uri": "https://localhost:8080/",
          "height": 111
        },
        "outputId": "c229fdfd-168b-4144-9827-4759d2af2981"
      },
      "source": [
        "# upload glaciers csv\r\n",
        "files.upload()"
      ],
      "execution_count": 8,
      "outputs": [
        {
          "output_type": "display_data",
          "data": {
            "text/html": [
              "\n",
              "     <input type=\"file\" id=\"files-a68bfbb6-f51e-487a-830c-d5877b0bb86a\" name=\"files[]\" multiple disabled\n",
              "        style=\"border:none\" />\n",
              "     <output id=\"result-a68bfbb6-f51e-487a-830c-d5877b0bb86a\">\n",
              "      Upload widget is only available when the cell has been executed in the\n",
              "      current browser session. Please rerun this cell to enable.\n",
              "      </output>\n",
              "      <script src=\"/nbextensions/google.colab/files.js\"></script> "
            ],
            "text/plain": [
              "<IPython.core.display.HTML object>"
            ]
          },
          "metadata": {
            "tags": []
          }
        },
        {
          "output_type": "stream",
          "text": [
            "Saving glaciers_csv.csv to glaciers_csv.csv\n"
          ],
          "name": "stdout"
        },
        {
          "output_type": "execute_result",
          "data": {
            "text/plain": [
              "{'glaciers_csv.csv': b'Year,MeanCumMass,NumObs\\r\\n1945,0,\\r\\n1946,-1.13,1\\r\\n1947,-3.19,1\\r\\n1948,-3.19,1\\r\\n1949,-3.82,3\\r\\n1950,-4.887,3\\r\\n1951,-5.217,3\\r\\n1952,-5.707,3\\r\\n1953,-6.341,7\\r\\n1954,-6.825,6\\r\\n1955,-6.575,7\\r\\n1956,-6.814,7\\r\\n1957,-6.989,9\\r\\n1958,-7.693,9\\r\\n1959,-8.325,11\\r\\n1960,-8.688,14\\r\\n1961,-8.935,15\\r\\n1962,-9.109,20\\r\\n1963,-9.567,22\\r\\n1964,-9.699,22\\r\\n1965,-9.298,24\\r\\n1966,-9.436,27\\r\\n1967,-9.303,29\\r\\n1968,-9.219,31\\r\\n1969,-9.732,31\\r\\n1970,-10.128,32\\r\\n1971,-10.288,32\\r\\n1972,-10.441,32\\r\\n1973,-10.538,32\\r\\n1974,-10.613,32\\r\\n1975,-10.534,33\\r\\n1976,-10.633,35\\r\\n1977,-10.682,37\\r\\n1978,-10.754,37\\r\\n1979,-11.127,37\\r\\n1980,-11.318,36\\r\\n1981,-11.394,35\\r\\n1982,-11.849,36\\r\\n1983,-11.846,37\\r\\n1984,-11.902,37\\r\\n1985,-12.238,37\\r\\n1986,-12.782,37\\r\\n1987,-12.795,37\\r\\n1988,-13.26,37\\r\\n1989,-13.343,37\\r\\n1990,-13.687,37\\r\\n1991,-14.255,37\\r\\n1992,-14.501,36\\r\\n1993,-14.695,37\\r\\n1994,-15.276,37\\r\\n1995,-15.486,37\\r\\n1996,-15.89,37\\r\\n1997,-16.487,37\\r\\n1998,-17.31,37\\r\\n1999,-17.697,37\\r\\n2000,-17.727,37\\r\\n2001,-18.032,37\\r\\n2002,-18.726,37\\r\\n2003,-19.984,37\\r\\n2004,-20.703,37\\r\\n2005,-21.405,37\\r\\n2006,-22.595,37\\r\\n2007,-23.255,37\\r\\n2008,-23.776,37\\r\\n2009,-24.459,37\\r\\n2010,-25.158,37\\r\\n2011,-26.294,37\\r\\n2012,-26.93,36\\r\\n2013,-27.817,31\\r\\n2014,-28.652,24\\r\\n'}"
            ]
          },
          "metadata": {
            "tags": []
          },
          "execution_count": 8
        }
      ]
    },
    {
      "cell_type": "code",
      "metadata": {
        "colab": {
          "base_uri": "https://localhost:8080/"
        },
        "id": "0qIGf7ME3rSb",
        "outputId": "5da57fdf-6eb9-4579-8dad-91b732604d11"
      },
      "source": [
        "%ls"
      ],
      "execution_count": 4,
      "outputs": [
        {
          "output_type": "stream",
          "text": [
            "annual_temp_csv2.csv  epa-sea-level_json2.json  glaciers_csv.csv  \u001b[0m\u001b[01;34msample_data\u001b[0m/\n"
          ],
          "name": "stdout"
        }
      ]
    },
    {
      "cell_type": "code",
      "metadata": {
        "colab": {
          "base_uri": "https://localhost:8080/",
          "height": 195
        },
        "id": "wuQ0wRXf1ENR",
        "outputId": "12d7a1fd-4bc2-467a-936e-1b4fbb23bc73"
      },
      "source": [
        "# load csvs as dataframes\r\n",
        "annual_temp_df = pd.read_csv('annual_temp_csv2.csv')\r\n",
        "annual_temp_df.head()"
      ],
      "execution_count": 5,
      "outputs": [
        {
          "output_type": "execute_result",
          "data": {
            "text/html": [
              "<div>\n",
              "<style scoped>\n",
              "    .dataframe tbody tr th:only-of-type {\n",
              "        vertical-align: middle;\n",
              "    }\n",
              "\n",
              "    .dataframe tbody tr th {\n",
              "        vertical-align: top;\n",
              "    }\n",
              "\n",
              "    .dataframe thead th {\n",
              "        text-align: right;\n",
              "    }\n",
              "</style>\n",
              "<table border=\"1\" class=\"dataframe\">\n",
              "  <thead>\n",
              "    <tr style=\"text-align: right;\">\n",
              "      <th></th>\n",
              "      <th>Source</th>\n",
              "      <th>Year</th>\n",
              "      <th>Mean</th>\n",
              "    </tr>\n",
              "  </thead>\n",
              "  <tbody>\n",
              "    <tr>\n",
              "      <th>0</th>\n",
              "      <td>GCAG</td>\n",
              "      <td>2016</td>\n",
              "      <td>0.9363</td>\n",
              "    </tr>\n",
              "    <tr>\n",
              "      <th>1</th>\n",
              "      <td>GISTEMP</td>\n",
              "      <td>2016</td>\n",
              "      <td>NaN</td>\n",
              "    </tr>\n",
              "    <tr>\n",
              "      <th>2</th>\n",
              "      <td>GCAG</td>\n",
              "      <td>2015</td>\n",
              "      <td>NaN</td>\n",
              "    </tr>\n",
              "    <tr>\n",
              "      <th>3</th>\n",
              "      <td>GISTEMP</td>\n",
              "      <td>2015</td>\n",
              "      <td>0.8700</td>\n",
              "    </tr>\n",
              "    <tr>\n",
              "      <th>4</th>\n",
              "      <td>GCAG</td>\n",
              "      <td>2014</td>\n",
              "      <td>0.7408</td>\n",
              "    </tr>\n",
              "  </tbody>\n",
              "</table>\n",
              "</div>"
            ],
            "text/plain": [
              "    Source  Year    Mean\n",
              "0     GCAG  2016  0.9363\n",
              "1  GISTEMP  2016     NaN\n",
              "2     GCAG  2015     NaN\n",
              "3  GISTEMP  2015  0.8700\n",
              "4     GCAG  2014  0.7408"
            ]
          },
          "metadata": {
            "tags": []
          },
          "execution_count": 5
        }
      ]
    },
    {
      "cell_type": "code",
      "metadata": {
        "colab": {
          "base_uri": "https://localhost:8080/",
          "height": 195
        },
        "id": "DPwGEZfW1ctD",
        "outputId": "b9a2b2df-06e6-48f7-87ac-99bb0d06a1e1"
      },
      "source": [
        "# load csvs as dataframes\r\n",
        "glaciers_df = pd.read_csv('glaciers_csv.csv')\r\n",
        "glaciers_df.head()"
      ],
      "execution_count": 6,
      "outputs": [
        {
          "output_type": "execute_result",
          "data": {
            "text/html": [
              "<div>\n",
              "<style scoped>\n",
              "    .dataframe tbody tr th:only-of-type {\n",
              "        vertical-align: middle;\n",
              "    }\n",
              "\n",
              "    .dataframe tbody tr th {\n",
              "        vertical-align: top;\n",
              "    }\n",
              "\n",
              "    .dataframe thead th {\n",
              "        text-align: right;\n",
              "    }\n",
              "</style>\n",
              "<table border=\"1\" class=\"dataframe\">\n",
              "  <thead>\n",
              "    <tr style=\"text-align: right;\">\n",
              "      <th></th>\n",
              "      <th>Year</th>\n",
              "      <th>MeanCumMass</th>\n",
              "      <th>NumObs</th>\n",
              "    </tr>\n",
              "  </thead>\n",
              "  <tbody>\n",
              "    <tr>\n",
              "      <th>0</th>\n",
              "      <td>1945</td>\n",
              "      <td>0.00</td>\n",
              "      <td>NaN</td>\n",
              "    </tr>\n",
              "    <tr>\n",
              "      <th>1</th>\n",
              "      <td>1946</td>\n",
              "      <td>-1.13</td>\n",
              "      <td>1.0</td>\n",
              "    </tr>\n",
              "    <tr>\n",
              "      <th>2</th>\n",
              "      <td>1947</td>\n",
              "      <td>-3.19</td>\n",
              "      <td>1.0</td>\n",
              "    </tr>\n",
              "    <tr>\n",
              "      <th>3</th>\n",
              "      <td>1948</td>\n",
              "      <td>-3.19</td>\n",
              "      <td>1.0</td>\n",
              "    </tr>\n",
              "    <tr>\n",
              "      <th>4</th>\n",
              "      <td>1949</td>\n",
              "      <td>-3.82</td>\n",
              "      <td>3.0</td>\n",
              "    </tr>\n",
              "  </tbody>\n",
              "</table>\n",
              "</div>"
            ],
            "text/plain": [
              "   Year  MeanCumMass  NumObs\n",
              "0  1945         0.00     NaN\n",
              "1  1946        -1.13     1.0\n",
              "2  1947        -3.19     1.0\n",
              "3  1948        -3.19     1.0\n",
              "4  1949        -3.82     3.0"
            ]
          },
          "metadata": {
            "tags": []
          },
          "execution_count": 6
        }
      ]
    },
    {
      "cell_type": "code",
      "metadata": {
        "colab": {
          "base_uri": "https://localhost:8080/",
          "height": 195
        },
        "id": "gU4Fl5751sP-",
        "outputId": "4fcf9ec4-2123-48bf-b9d4-40734e887463"
      },
      "source": [
        "# 1: split annual temp data into two dataframes\r\n",
        "\r\n",
        "# GISTEMP data\r\n",
        "new_dfs = annual_temp_df.groupby(annual_temp_df.Source) \r\n",
        "GISTEMP_df = new_dfs.get_group(\"GISTEMP\")\r\n",
        "\r\n",
        "# remove 'Source' column\r\n",
        "GISTEMP_df = GISTEMP_df.drop(columns='Source')\r\n",
        "\r\n",
        "# print first 5 rows of dataframe\r\n",
        "GISTEMP_df.head()"
      ],
      "execution_count": 7,
      "outputs": [
        {
          "output_type": "execute_result",
          "data": {
            "text/html": [
              "<div>\n",
              "<style scoped>\n",
              "    .dataframe tbody tr th:only-of-type {\n",
              "        vertical-align: middle;\n",
              "    }\n",
              "\n",
              "    .dataframe tbody tr th {\n",
              "        vertical-align: top;\n",
              "    }\n",
              "\n",
              "    .dataframe thead th {\n",
              "        text-align: right;\n",
              "    }\n",
              "</style>\n",
              "<table border=\"1\" class=\"dataframe\">\n",
              "  <thead>\n",
              "    <tr style=\"text-align: right;\">\n",
              "      <th></th>\n",
              "      <th>Year</th>\n",
              "      <th>Mean</th>\n",
              "    </tr>\n",
              "  </thead>\n",
              "  <tbody>\n",
              "    <tr>\n",
              "      <th>1</th>\n",
              "      <td>2016</td>\n",
              "      <td>NaN</td>\n",
              "    </tr>\n",
              "    <tr>\n",
              "      <th>3</th>\n",
              "      <td>2015</td>\n",
              "      <td>0.87</td>\n",
              "    </tr>\n",
              "    <tr>\n",
              "      <th>5</th>\n",
              "      <td>2014</td>\n",
              "      <td>0.74</td>\n",
              "    </tr>\n",
              "    <tr>\n",
              "      <th>7</th>\n",
              "      <td>2013</td>\n",
              "      <td>0.65</td>\n",
              "    </tr>\n",
              "    <tr>\n",
              "      <th>9</th>\n",
              "      <td>2012</td>\n",
              "      <td>0.63</td>\n",
              "    </tr>\n",
              "  </tbody>\n",
              "</table>\n",
              "</div>"
            ],
            "text/plain": [
              "   Year  Mean\n",
              "1  2016   NaN\n",
              "3  2015  0.87\n",
              "5  2014  0.74\n",
              "7  2013  0.65\n",
              "9  2012  0.63"
            ]
          },
          "metadata": {
            "tags": []
          },
          "execution_count": 7
        }
      ]
    },
    {
      "cell_type": "code",
      "metadata": {
        "colab": {
          "base_uri": "https://localhost:8080/",
          "height": 195
        },
        "id": "tIl4i9ab4G6p",
        "outputId": "bc26e75e-8e5b-4b4e-c343-7b64a9068b19"
      },
      "source": [
        "# GCAG data\r\n",
        "GCAG_df = new_dfs.get_group(\"GCAG\")\r\n",
        "\r\n",
        "# remove 'Source' column\r\n",
        "GCAG_df = GCAG_df.drop(columns='Source')\r\n",
        "\r\n",
        "# print first 5 rows of dataframe\r\n",
        "GCAG_df.head()"
      ],
      "execution_count": 8,
      "outputs": [
        {
          "output_type": "execute_result",
          "data": {
            "text/html": [
              "<div>\n",
              "<style scoped>\n",
              "    .dataframe tbody tr th:only-of-type {\n",
              "        vertical-align: middle;\n",
              "    }\n",
              "\n",
              "    .dataframe tbody tr th {\n",
              "        vertical-align: top;\n",
              "    }\n",
              "\n",
              "    .dataframe thead th {\n",
              "        text-align: right;\n",
              "    }\n",
              "</style>\n",
              "<table border=\"1\" class=\"dataframe\">\n",
              "  <thead>\n",
              "    <tr style=\"text-align: right;\">\n",
              "      <th></th>\n",
              "      <th>Year</th>\n",
              "      <th>Mean</th>\n",
              "    </tr>\n",
              "  </thead>\n",
              "  <tbody>\n",
              "    <tr>\n",
              "      <th>0</th>\n",
              "      <td>2016</td>\n",
              "      <td>0.9363</td>\n",
              "    </tr>\n",
              "    <tr>\n",
              "      <th>2</th>\n",
              "      <td>2015</td>\n",
              "      <td>NaN</td>\n",
              "    </tr>\n",
              "    <tr>\n",
              "      <th>4</th>\n",
              "      <td>2014</td>\n",
              "      <td>0.7408</td>\n",
              "    </tr>\n",
              "    <tr>\n",
              "      <th>6</th>\n",
              "      <td>2013</td>\n",
              "      <td>0.6679</td>\n",
              "    </tr>\n",
              "    <tr>\n",
              "      <th>8</th>\n",
              "      <td>2012</td>\n",
              "      <td>0.6240</td>\n",
              "    </tr>\n",
              "  </tbody>\n",
              "</table>\n",
              "</div>"
            ],
            "text/plain": [
              "   Year    Mean\n",
              "0  2016  0.9363\n",
              "2  2015     NaN\n",
              "4  2014  0.7408\n",
              "6  2013  0.6679\n",
              "8  2012  0.6240"
            ]
          },
          "metadata": {
            "tags": []
          },
          "execution_count": 8
        }
      ]
    },
    {
      "cell_type": "code",
      "metadata": {
        "colab": {
          "base_uri": "https://localhost:8080/",
          "height": 195
        },
        "id": "R2l7Ixrm4YSn",
        "outputId": "f7ff8829-df46-49a7-c4cf-4fd19d36b704"
      },
      "source": [
        "# 2: delete rows from glaciers data with 'number of observations' < 10\r\n",
        "glaciers_df = glaciers_df[glaciers_df['NumObs'] > 10]\r\n",
        "glaciers_df.head()"
      ],
      "execution_count": 9,
      "outputs": [
        {
          "output_type": "execute_result",
          "data": {
            "text/html": [
              "<div>\n",
              "<style scoped>\n",
              "    .dataframe tbody tr th:only-of-type {\n",
              "        vertical-align: middle;\n",
              "    }\n",
              "\n",
              "    .dataframe tbody tr th {\n",
              "        vertical-align: top;\n",
              "    }\n",
              "\n",
              "    .dataframe thead th {\n",
              "        text-align: right;\n",
              "    }\n",
              "</style>\n",
              "<table border=\"1\" class=\"dataframe\">\n",
              "  <thead>\n",
              "    <tr style=\"text-align: right;\">\n",
              "      <th></th>\n",
              "      <th>Year</th>\n",
              "      <th>MeanCumMass</th>\n",
              "      <th>NumObs</th>\n",
              "    </tr>\n",
              "  </thead>\n",
              "  <tbody>\n",
              "    <tr>\n",
              "      <th>14</th>\n",
              "      <td>1959</td>\n",
              "      <td>-8.325</td>\n",
              "      <td>11.0</td>\n",
              "    </tr>\n",
              "    <tr>\n",
              "      <th>15</th>\n",
              "      <td>1960</td>\n",
              "      <td>-8.688</td>\n",
              "      <td>14.0</td>\n",
              "    </tr>\n",
              "    <tr>\n",
              "      <th>16</th>\n",
              "      <td>1961</td>\n",
              "      <td>-8.935</td>\n",
              "      <td>15.0</td>\n",
              "    </tr>\n",
              "    <tr>\n",
              "      <th>17</th>\n",
              "      <td>1962</td>\n",
              "      <td>-9.109</td>\n",
              "      <td>20.0</td>\n",
              "    </tr>\n",
              "    <tr>\n",
              "      <th>18</th>\n",
              "      <td>1963</td>\n",
              "      <td>-9.567</td>\n",
              "      <td>22.0</td>\n",
              "    </tr>\n",
              "  </tbody>\n",
              "</table>\n",
              "</div>"
            ],
            "text/plain": [
              "    Year  MeanCumMass  NumObs\n",
              "14  1959       -8.325    11.0\n",
              "15  1960       -8.688    14.0\n",
              "16  1961       -8.935    15.0\n",
              "17  1962       -9.109    20.0\n",
              "18  1963       -9.567    22.0"
            ]
          },
          "metadata": {
            "tags": []
          },
          "execution_count": 9
        }
      ]
    },
    {
      "cell_type": "code",
      "metadata": {
        "id": "dM1j1urx5x6R",
        "colab": {
          "base_uri": "https://localhost:8080/",
          "height": 1000
        },
        "outputId": "4b9d9edc-96b3-4459-f496-4710e52c5113"
      },
      "source": [
        "# match data for common years between modified glacier data and GCAG annual temp data\r\n",
        "pd_combined = pd.merge(glaciers_df, GCAG_df, on='Year')\r\n",
        "\r\n",
        "# make years as labels\r\n",
        "pd_combined = pd_combined.set_index('Year')\r\n",
        "\r\n",
        "# just have year-matched mean temp and MeanCumMass - remove NumObs column\r\n",
        "pd_combined = pd_combined.drop(columns='NumObs')\r\n",
        "pd_combined"
      ],
      "execution_count": 10,
      "outputs": [
        {
          "output_type": "execute_result",
          "data": {
            "text/html": [
              "<div>\n",
              "<style scoped>\n",
              "    .dataframe tbody tr th:only-of-type {\n",
              "        vertical-align: middle;\n",
              "    }\n",
              "\n",
              "    .dataframe tbody tr th {\n",
              "        vertical-align: top;\n",
              "    }\n",
              "\n",
              "    .dataframe thead th {\n",
              "        text-align: right;\n",
              "    }\n",
              "</style>\n",
              "<table border=\"1\" class=\"dataframe\">\n",
              "  <thead>\n",
              "    <tr style=\"text-align: right;\">\n",
              "      <th></th>\n",
              "      <th>MeanCumMass</th>\n",
              "      <th>Mean</th>\n",
              "    </tr>\n",
              "    <tr>\n",
              "      <th>Year</th>\n",
              "      <th></th>\n",
              "      <th></th>\n",
              "    </tr>\n",
              "  </thead>\n",
              "  <tbody>\n",
              "    <tr>\n",
              "      <th>1959</th>\n",
              "      <td>-8.325</td>\n",
              "      <td>0.0596</td>\n",
              "    </tr>\n",
              "    <tr>\n",
              "      <th>1960</th>\n",
              "      <td>-8.688</td>\n",
              "      <td>0.0204</td>\n",
              "    </tr>\n",
              "    <tr>\n",
              "      <th>1961</th>\n",
              "      <td>-8.935</td>\n",
              "      <td>0.0775</td>\n",
              "    </tr>\n",
              "    <tr>\n",
              "      <th>1962</th>\n",
              "      <td>-9.109</td>\n",
              "      <td>0.0888</td>\n",
              "    </tr>\n",
              "    <tr>\n",
              "      <th>1963</th>\n",
              "      <td>-9.567</td>\n",
              "      <td>0.1068</td>\n",
              "    </tr>\n",
              "    <tr>\n",
              "      <th>1964</th>\n",
              "      <td>-9.699</td>\n",
              "      <td>-0.1495</td>\n",
              "    </tr>\n",
              "    <tr>\n",
              "      <th>1965</th>\n",
              "      <td>-9.298</td>\n",
              "      <td>-0.0780</td>\n",
              "    </tr>\n",
              "    <tr>\n",
              "      <th>1966</th>\n",
              "      <td>-9.436</td>\n",
              "      <td>-0.0227</td>\n",
              "    </tr>\n",
              "    <tr>\n",
              "      <th>1967</th>\n",
              "      <td>-9.303</td>\n",
              "      <td>-0.0131</td>\n",
              "    </tr>\n",
              "    <tr>\n",
              "      <th>1968</th>\n",
              "      <td>-9.219</td>\n",
              "      <td>-0.0296</td>\n",
              "    </tr>\n",
              "    <tr>\n",
              "      <th>1969</th>\n",
              "      <td>-9.732</td>\n",
              "      <td>0.0929</td>\n",
              "    </tr>\n",
              "    <tr>\n",
              "      <th>1970</th>\n",
              "      <td>-10.128</td>\n",
              "      <td>0.0372</td>\n",
              "    </tr>\n",
              "    <tr>\n",
              "      <th>1971</th>\n",
              "      <td>-10.288</td>\n",
              "      <td>-0.0783</td>\n",
              "    </tr>\n",
              "    <tr>\n",
              "      <th>1972</th>\n",
              "      <td>-10.441</td>\n",
              "      <td>0.0264</td>\n",
              "    </tr>\n",
              "    <tr>\n",
              "      <th>1973</th>\n",
              "      <td>-10.538</td>\n",
              "      <td>0.1641</td>\n",
              "    </tr>\n",
              "    <tr>\n",
              "      <th>1974</th>\n",
              "      <td>-10.613</td>\n",
              "      <td>-0.0719</td>\n",
              "    </tr>\n",
              "    <tr>\n",
              "      <th>1975</th>\n",
              "      <td>-10.534</td>\n",
              "      <td>0.0034</td>\n",
              "    </tr>\n",
              "    <tr>\n",
              "      <th>1976</th>\n",
              "      <td>-10.633</td>\n",
              "      <td>-0.0792</td>\n",
              "    </tr>\n",
              "    <tr>\n",
              "      <th>1977</th>\n",
              "      <td>-10.682</td>\n",
              "      <td>0.1978</td>\n",
              "    </tr>\n",
              "    <tr>\n",
              "      <th>1978</th>\n",
              "      <td>-10.754</td>\n",
              "      <td>0.1123</td>\n",
              "    </tr>\n",
              "    <tr>\n",
              "      <th>1979</th>\n",
              "      <td>-11.127</td>\n",
              "      <td>0.2273</td>\n",
              "    </tr>\n",
              "    <tr>\n",
              "      <th>1980</th>\n",
              "      <td>-11.318</td>\n",
              "      <td>0.2637</td>\n",
              "    </tr>\n",
              "    <tr>\n",
              "      <th>1981</th>\n",
              "      <td>-11.394</td>\n",
              "      <td>0.2999</td>\n",
              "    </tr>\n",
              "    <tr>\n",
              "      <th>1982</th>\n",
              "      <td>-11.849</td>\n",
              "      <td>0.1815</td>\n",
              "    </tr>\n",
              "    <tr>\n",
              "      <th>1983</th>\n",
              "      <td>-11.846</td>\n",
              "      <td>0.3411</td>\n",
              "    </tr>\n",
              "    <tr>\n",
              "      <th>1984</th>\n",
              "      <td>-11.902</td>\n",
              "      <td>0.1490</td>\n",
              "    </tr>\n",
              "    <tr>\n",
              "      <th>1985</th>\n",
              "      <td>-12.238</td>\n",
              "      <td>0.1342</td>\n",
              "    </tr>\n",
              "    <tr>\n",
              "      <th>1986</th>\n",
              "      <td>-12.782</td>\n",
              "      <td>0.2296</td>\n",
              "    </tr>\n",
              "    <tr>\n",
              "      <th>1987</th>\n",
              "      <td>-12.795</td>\n",
              "      <td>0.3696</td>\n",
              "    </tr>\n",
              "    <tr>\n",
              "      <th>1988</th>\n",
              "      <td>-13.260</td>\n",
              "      <td>0.3757</td>\n",
              "    </tr>\n",
              "    <tr>\n",
              "      <th>1989</th>\n",
              "      <td>-13.343</td>\n",
              "      <td>0.2970</td>\n",
              "    </tr>\n",
              "    <tr>\n",
              "      <th>1990</th>\n",
              "      <td>-13.687</td>\n",
              "      <td>0.4328</td>\n",
              "    </tr>\n",
              "    <tr>\n",
              "      <th>1991</th>\n",
              "      <td>-14.255</td>\n",
              "      <td>0.4055</td>\n",
              "    </tr>\n",
              "    <tr>\n",
              "      <th>1992</th>\n",
              "      <td>-14.501</td>\n",
              "      <td>0.2571</td>\n",
              "    </tr>\n",
              "    <tr>\n",
              "      <th>1993</th>\n",
              "      <td>-14.695</td>\n",
              "      <td>0.2853</td>\n",
              "    </tr>\n",
              "    <tr>\n",
              "      <th>1994</th>\n",
              "      <td>-15.276</td>\n",
              "      <td>0.3409</td>\n",
              "    </tr>\n",
              "    <tr>\n",
              "      <th>1995</th>\n",
              "      <td>-15.486</td>\n",
              "      <td>0.4577</td>\n",
              "    </tr>\n",
              "    <tr>\n",
              "      <th>1996</th>\n",
              "      <td>-15.890</td>\n",
              "      <td>0.3228</td>\n",
              "    </tr>\n",
              "    <tr>\n",
              "      <th>1997</th>\n",
              "      <td>-16.487</td>\n",
              "      <td>0.5187</td>\n",
              "    </tr>\n",
              "    <tr>\n",
              "      <th>1998</th>\n",
              "      <td>-17.310</td>\n",
              "      <td>0.6344</td>\n",
              "    </tr>\n",
              "    <tr>\n",
              "      <th>1999</th>\n",
              "      <td>-17.697</td>\n",
              "      <td>0.4438</td>\n",
              "    </tr>\n",
              "    <tr>\n",
              "      <th>2000</th>\n",
              "      <td>-17.727</td>\n",
              "      <td>0.4262</td>\n",
              "    </tr>\n",
              "    <tr>\n",
              "      <th>2001</th>\n",
              "      <td>-18.032</td>\n",
              "      <td>0.5473</td>\n",
              "    </tr>\n",
              "    <tr>\n",
              "      <th>2002</th>\n",
              "      <td>-18.726</td>\n",
              "      <td>0.6023</td>\n",
              "    </tr>\n",
              "    <tr>\n",
              "      <th>2003</th>\n",
              "      <td>-19.984</td>\n",
              "      <td>0.6134</td>\n",
              "    </tr>\n",
              "    <tr>\n",
              "      <th>2004</th>\n",
              "      <td>-20.703</td>\n",
              "      <td>0.5783</td>\n",
              "    </tr>\n",
              "    <tr>\n",
              "      <th>2005</th>\n",
              "      <td>-21.405</td>\n",
              "      <td>0.6585</td>\n",
              "    </tr>\n",
              "    <tr>\n",
              "      <th>2006</th>\n",
              "      <td>-22.595</td>\n",
              "      <td>0.6125</td>\n",
              "    </tr>\n",
              "    <tr>\n",
              "      <th>2007</th>\n",
              "      <td>-23.255</td>\n",
              "      <td>0.6100</td>\n",
              "    </tr>\n",
              "    <tr>\n",
              "      <th>2008</th>\n",
              "      <td>-23.776</td>\n",
              "      <td>0.5419</td>\n",
              "    </tr>\n",
              "    <tr>\n",
              "      <th>2009</th>\n",
              "      <td>-24.459</td>\n",
              "      <td>0.6367</td>\n",
              "    </tr>\n",
              "    <tr>\n",
              "      <th>2010</th>\n",
              "      <td>-25.158</td>\n",
              "      <td>0.7014</td>\n",
              "    </tr>\n",
              "    <tr>\n",
              "      <th>2011</th>\n",
              "      <td>-26.294</td>\n",
              "      <td>0.5788</td>\n",
              "    </tr>\n",
              "    <tr>\n",
              "      <th>2012</th>\n",
              "      <td>-26.930</td>\n",
              "      <td>0.6240</td>\n",
              "    </tr>\n",
              "    <tr>\n",
              "      <th>2013</th>\n",
              "      <td>-27.817</td>\n",
              "      <td>0.6679</td>\n",
              "    </tr>\n",
              "    <tr>\n",
              "      <th>2014</th>\n",
              "      <td>-28.652</td>\n",
              "      <td>0.7408</td>\n",
              "    </tr>\n",
              "  </tbody>\n",
              "</table>\n",
              "</div>"
            ],
            "text/plain": [
              "      MeanCumMass    Mean\n",
              "Year                     \n",
              "1959       -8.325  0.0596\n",
              "1960       -8.688  0.0204\n",
              "1961       -8.935  0.0775\n",
              "1962       -9.109  0.0888\n",
              "1963       -9.567  0.1068\n",
              "1964       -9.699 -0.1495\n",
              "1965       -9.298 -0.0780\n",
              "1966       -9.436 -0.0227\n",
              "1967       -9.303 -0.0131\n",
              "1968       -9.219 -0.0296\n",
              "1969       -9.732  0.0929\n",
              "1970      -10.128  0.0372\n",
              "1971      -10.288 -0.0783\n",
              "1972      -10.441  0.0264\n",
              "1973      -10.538  0.1641\n",
              "1974      -10.613 -0.0719\n",
              "1975      -10.534  0.0034\n",
              "1976      -10.633 -0.0792\n",
              "1977      -10.682  0.1978\n",
              "1978      -10.754  0.1123\n",
              "1979      -11.127  0.2273\n",
              "1980      -11.318  0.2637\n",
              "1981      -11.394  0.2999\n",
              "1982      -11.849  0.1815\n",
              "1983      -11.846  0.3411\n",
              "1984      -11.902  0.1490\n",
              "1985      -12.238  0.1342\n",
              "1986      -12.782  0.2296\n",
              "1987      -12.795  0.3696\n",
              "1988      -13.260  0.3757\n",
              "1989      -13.343  0.2970\n",
              "1990      -13.687  0.4328\n",
              "1991      -14.255  0.4055\n",
              "1992      -14.501  0.2571\n",
              "1993      -14.695  0.2853\n",
              "1994      -15.276  0.3409\n",
              "1995      -15.486  0.4577\n",
              "1996      -15.890  0.3228\n",
              "1997      -16.487  0.5187\n",
              "1998      -17.310  0.6344\n",
              "1999      -17.697  0.4438\n",
              "2000      -17.727  0.4262\n",
              "2001      -18.032  0.5473\n",
              "2002      -18.726  0.6023\n",
              "2003      -19.984  0.6134\n",
              "2004      -20.703  0.5783\n",
              "2005      -21.405  0.6585\n",
              "2006      -22.595  0.6125\n",
              "2007      -23.255  0.6100\n",
              "2008      -23.776  0.5419\n",
              "2009      -24.459  0.6367\n",
              "2010      -25.158  0.7014\n",
              "2011      -26.294  0.5788\n",
              "2012      -26.930  0.6240\n",
              "2013      -27.817  0.6679\n",
              "2014      -28.652  0.7408"
            ]
          },
          "metadata": {
            "tags": []
          },
          "execution_count": 10
        }
      ]
    },
    {
      "cell_type": "code",
      "metadata": {
        "id": "FstORAb36cXH",
        "colab": {
          "base_uri": "https://localhost:8080/"
        },
        "outputId": "6f6a63e8-3304-48b4-c7d9-2bd1ea9f3404"
      },
      "source": [
        "# 3: make two lists\r\n",
        "  # one with mean temp deviation over consecutive 7 year windows\r\n",
        "  # other with std over each 7 year window\r\n",
        "\r\n",
        "# moving average window (used for #4 as well)\r\n",
        "win = 7\r\n",
        "\r\n",
        "n = len(pd_combined)\r\n",
        "\r\n",
        "# make empty lists to append moving avg/std\r\n",
        "mean_temp_avg = []\r\n",
        "mean_temp_std = []\r\n",
        "\r\n",
        "# init a counter to keep track of where we are in the DF\r\n",
        "for i in range(0,n,win):\r\n",
        "  mean_temp_avg.append(np.mean(pd_combined.iloc[i:i+win]['Mean']))\r\n",
        "  mean_temp_std.append(np.std(pd_combined.iloc[i:i+win]['Mean']))\r\n",
        "\r\n",
        "print ('The mean temperature every 7 years is', mean_temp_avg)\r\n",
        "print ()\r\n",
        "print ('The std of those temperatures every 7 years is', mean_temp_std)"
      ],
      "execution_count": 12,
      "outputs": [
        {
          "output_type": "stream",
          "text": [
            "The mean temperature every 7 years is [0.01794285714285715, 0.0018285714285714283, 0.07911428571428572, 0.22842857142857145, 0.34614285714285714, 0.4492142857142857, 0.6031857142857143, 0.6416428571428572]\n",
            "\n",
            "The std of those temperatures every 7 years is [0.08899990139870713, 0.05124416940452039, 0.11830381504018045, 0.0721493236140103, 0.06153059302128513, 0.09817298768095062, 0.03171409909855004, 0.06361273136595169]\n"
          ],
          "name": "stdout"
        }
      ]
    },
    {
      "cell_type": "code",
      "metadata": {
        "colab": {
          "base_uri": "https://localhost:8080/"
        },
        "id": "wZs1Rsvui549",
        "outputId": "f9288a53-0a99-442c-ec5f-d5944a5d3ca5"
      },
      "source": [
        "# 4: make two lists\r\n",
        "  # one with avg glacier mass change in consecutive 7 year windows\r\n",
        "  # other with std in each 7 year window\r\n",
        "\r\n",
        "# make empty lists to append moving avg/std\r\n",
        "glacier_mass_avg = []\r\n",
        "glacier_mass_std = []\r\n",
        "\r\n",
        "# init a counter to keep track of where we are in the DF\r\n",
        "for i in range(0,n,win):\r\n",
        "  glacier_mass_avg.append(np.mean(pd_combined.iloc[i:i+win]['MeanCumMass']))\r\n",
        "  glacier_mass_std.append(np.std(pd_combined.iloc[i:i+win]['MeanCumMass']))\r\n",
        "\r\n",
        "print ('The mean glacier mass balance every 7 years is', glacier_mass_avg)\r\n",
        "print ()\r\n",
        "print ('The std of those glacier mass balances every 7 years is', glacier_mass_std)"
      ],
      "execution_count": 13,
      "outputs": [
        {
          "output_type": "stream",
          "text": [
            "The mean glacier mass balance every 7 years is [-9.088714285714286, -9.792428571428571, -10.697285714285714, -11.904142857142856, -13.790857142857144, -16.553285714285714, -20.67142857142857, -26.155142857142856]\n",
            "\n",
            "The std of those glacier mass balances every 7 years is [0.449265659329824, 0.4594869365911933, 0.18950138656538681, 0.4617248495962654, 0.6570615167050143, 0.961635766253926, 1.7783590234613846, 1.6538813594149988]\n"
          ],
          "name": "stdout"
        }
      ]
    },
    {
      "cell_type": "code",
      "metadata": {
        "colab": {
          "base_uri": "https://localhost:8080/",
          "height": 282
        },
        "id": "0PrqzUMQR0_O",
        "outputId": "00d18f41-943d-4256-f38c-836e10130fee"
      },
      "source": [
        "# 5: make line plots with error bars\r\n",
        "  # use two figures - one for mean temp deviation, one for average glacier mass change\r\n",
        "  # points on line represent mean temperature or average glacier mass\r\n",
        "  # error bars represent std of those observations\r\n",
        "\r\n",
        "# import plotting module\r\n",
        "import matplotlib.pyplot as plt\r\n",
        "\r\n",
        "x = list(pd_combined.index)[3::7]\r\n",
        "plt.errorbar(x, mean_temp_avg, yerr = mean_temp_std)\r\n",
        "plt.ylabel('Mean Temperature Deviation')"
      ],
      "execution_count": 81,
      "outputs": [
        {
          "output_type": "execute_result",
          "data": {
            "text/plain": [
              "Text(0, 0.5, 'Mean Temperature Deviation')"
            ]
          },
          "metadata": {
            "tags": []
          },
          "execution_count": 81
        },
        {
          "output_type": "display_data",
          "data": {
            "image/png": "[encoded data removed]",
            "text/plain": [
              "<Figure size 432x288 with 1 Axes>"
            ]
          },
          "metadata": {
            "tags": [],
            "needs_background": "light"
          }
        }
      ]
    },
    {
      "cell_type": "code",
      "metadata": {
        "colab": {
          "base_uri": "https://localhost:8080/",
          "height": 282
        },
        "id": "Fph-dlZIF3Y5",
        "outputId": "63f5afd5-47f7-4e3c-e53f-35916513ccc2"
      },
      "source": [
        "x = list(pd_combined.index)[3::7]\r\n",
        "plt.errorbar(x, glacier_mass_avg, yerr = glacier_mass_std)\r\n",
        "plt.ylabel('Mean Glacier Mass Balance Change')"
      ],
      "execution_count": 82,
      "outputs": [
        {
          "output_type": "execute_result",
          "data": {
            "text/plain": [
              "Text(0, 0.5, 'Mean Glacier Mass Balance Change')"
            ]
          },
          "metadata": {
            "tags": []
          },
          "execution_count": 82
        },
        {
          "output_type": "display_data",
          "data": {
            "image/png": "[encoded data removed]",
            "text/plain": [
              "<Figure size 432x288 with 1 Axes>"
            ]
          },
          "metadata": {
            "tags": [],
            "needs_background": "light"
          }
        }
      ]
    },
    {
      "cell_type": "markdown",
      "metadata": {
        "id": "-N2aOlS0cmNm"
      },
      "source": [
        "# 5:"
      ]
    },
    {
      "cell_type": "code",
      "metadata": {
        "id": "nxty0nDucnKY"
      },
      "source": [
        "# import pandas\r\n",
        "import pandas as pd\r\n",
        "from google.colab import files"
      ],
      "execution_count": 14,
      "outputs": []
    },
    {
      "cell_type": "code",
      "metadata": {
        "colab": {
          "resources": {
            "http://localhost:8080/nbextensions/google.colab/files.js": {
              "data": "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",
              "ok": true,
              "headers": [
                [
                  "content-type",
                  "application/javascript"
                ]
              ],
              "status": 200,
              "status_text": ""
            }
          },
          "base_uri": "https://localhost:8080/",
          "height": 111
        },
        "id": "gCRYFyJaXbm2",
        "outputId": "494a712c-feab-4f65-b5fb-623ef5da75d1"
      },
      "source": [
        "# upload json file\r\n",
        "files.upload()"
      ],
      "execution_count": 20,
      "outputs": [
        {
          "output_type": "display_data",
          "data": {
            "text/html": [
              "\n",
              "     <input type=\"file\" id=\"files-e234f39b-6e0a-4649-80a7-1c27ed9ac246\" name=\"files[]\" multiple disabled\n",
              "        style=\"border:none\" />\n",
              "     <output id=\"result-e234f39b-6e0a-4649-80a7-1c27ed9ac246\">\n",
              "      Upload widget is only available when the cell has been executed in the\n",
              "      current browser session. Please rerun this cell to enable.\n",
              "      </output>\n",
              "      <script src=\"/nbextensions/google.colab/files.js\"></script> "
            ],
            "text/plain": [
              "<IPython.core.display.HTML object>"
            ]
          },
          "metadata": {
            "tags": []
          }
        },
        {
          "output_type": "stream",
          "text": [
            "Saving epa-sea-level_json2.json to epa-sea-level_json2.json\n"
          ],
          "name": "stdout"
        },
        {
          "output_type": "execute_result",
          "data": {
            "text/plain": [
              "{'epa-sea-level_json2.json': b'{\"CSIRO Adjusted Sea Level\":{\"0\":0.0,\"1\":0.220472441,\"2\":-0.440944881,\"3\":-0.232283464,\"4\":0.590551181,\"5\":0.531496062,\"6\":0.437007874,\"7\":0.216535433,\"8\":0.299212598,\"9\":0.362204724,\"10\":0.440944881,\"11\":0.374015748,\"12\":0.499999999,\"13\":0.685039369,\"14\":0.303149606,\"15\":0.767716535,\"16\":0.468503937,\"17\":0.673228346,\"18\":1.043307086,\"19\":1.338582676,\"20\":1.125984251,\"21\":1.110236219,\"22\":1.291338581,\"23\":1.606299211,\"24\":1.2007874,\"25\":0.984251968,\"26\":1.251968503,\"27\":1.196850392,\"28\":1.098425196,\"29\":1.27559055,\"30\":1.271653542,\"31\":1.598425195,\"32\":1.476377951,\"33\":1.547244093,\"34\":1.795275589,\"35\":2.10629921,\"36\":2.031496061,\"37\":1.854330707,\"38\":1.791338581,\"39\":1.854330707,\"40\":1.905511809,\"41\":1.988188974,\"42\":1.952755904,\"43\":1.999999998,\"44\":1.712598423,\"45\":1.791338581,\"46\":2.047244092,\"47\":2.003937006,\"48\":1.850393699,\"49\":1.905511809,\"50\":2.062992124,\"51\":2.047244092,\"52\":2.271653541,\"53\":2.440944879,\"54\":2.228346454,\"55\":2.448818895,\"56\":2.295275588,\"57\":2.519685037,\"58\":2.622047241,\"59\":2.826771651,\"60\":2.618110234,\"61\":3.098425194,\"62\":3.098425194,\"63\":3.098425194,\"64\":2.84645669,\"65\":2.95669291,\"66\":3.251968501,\"67\":3.374015745,\"68\":3.562992122,\"69\":3.51181102,\"70\":3.598425193,\"71\":3.972440941,\"72\":3.870078736,\"73\":4.043307082,\"74\":3.929133854,\"75\":3.964566925,\"76\":3.763779524,\"77\":4.291338578,\"78\":4.346456688,\"79\":4.358267712,\"80\":4.503937003,\"81\":4.748031491,\"82\":4.543307082,\"83\":4.480314956,\"84\":4.169291334,\"85\":4.610236216,\"86\":4.397637791,\"87\":4.452755901,\"88\":4.484251964,\"89\":4.751968499,\"90\":4.67716535,\"91\":4.881889759,\"92\":5.240157475,\"93\":5.003937003,\"94\":5.472440939,\"95\":5.409448813,\"96\":5.370078735,\"97\":5.303149601,\"98\":5.555118105,\"99\":5.362204719,\"100\":5.598425191,\"101\":6.086614167,\"102\":5.858267711,\"103\":6.188976372,\"104\":6.153543301,\"105\":5.74803149,\"106\":5.771653537,\"107\":5.795275585,\"108\":5.980314955,\"109\":6.157480309,\"110\":6.232283458,\"111\":6.334645663,\"112\":6.35826771,\"113\":6.291338576,\"114\":6.499999993,\"115\":6.618110229,\"116\":6.787401568,\"117\":7.066929127,\"118\":6.665354324,\"119\":7.011811016,\"120\":7.062992119,\"121\":7.287401567,\"122\":7.381889756,\"123\":7.759842512,\"124\":7.740157472,\"125\":7.74409448,\"126\":7.917322827,\"127\":7.996062984,\"128\":8.350393692,\"129\":8.586614164,\"130\":8.901574794,\"131\":8.96456692,\"132\":9.326771644,\"133\":8.980314951,\"134\":null},\"Lower Error Bound\":{\"0\":-0.952755905,\"1\":-0.732283464,\"2\":-1.346456692,\"3\":-1.129921259,\"4\":-0.283464567,\"5\":-0.330708661,\"6\":-0.381889763,\"7\":-0.602362204,\"8\":-0.519685039,\"9\":-0.456692913,\"10\":-0.374015748,\"11\":-0.440944881,\"12\":-0.31496063,\"13\":-0.114173228,\"14\":-0.547244094,\"15\":-0.082677165,\"16\":-0.366141732,\"17\":-0.145669291,\"18\":0.267716535,\"19\":0.574803149,\"20\":0.405511811,\"21\":0.417322834,\"22\":0.61023622,\"23\":0.937007873,\"24\":0.53543307,\"25\":0.377952756,\"26\":0.673228346,\"27\":0.61023622,\"28\":0.527559055,\"29\":0.700787401,\"30\":0.696850393,\"31\":1.039370078,\"32\":0.917322834,\"33\":0.992125983,\"34\":1.251968503,\"35\":1.57086614,\"36\":1.519685038,\"37\":1.350393699,\"38\":1.291338581,\"39\":1.354330707,\"40\":1.393700786,\"41\":1.472440943,\"42\":1.433070865,\"43\":1.488188975,\"44\":1.196850392,\"45\":1.255905511,\"46\":1.507874014,\"47\":1.496062991,\"48\":1.366141731,\"49\":1.429133857,\"50\":1.590551179,\"51\":1.566929132,\"52\":1.803149604,\"53\":1.976377951,\"54\":1.759842518,\"55\":1.980314959,\"56\":1.83070866,\"57\":2.055118108,\"58\":2.157480313,\"59\":2.346456691,\"60\":2.18110236,\"61\":2.673228344,\"62\":2.673228344,\"63\":2.673228344,\"64\":2.425196848,\"65\":2.535433068,\"66\":2.834645666,\"67\":2.996062989,\"68\":3.19685039,\"69\":3.181102359,\"70\":3.287401571,\"71\":3.665354327,\"72\":3.56692913,\"73\":3.748031492,\"74\":3.64173228,\"75\":3.685039366,\"76\":3.488188973,\"77\":4.019685035,\"78\":4.086614169,\"79\":4.102362201,\"80\":4.244094484,\"81\":4.488188972,\"82\":4.283464563,\"83\":4.220472437,\"84\":3.905511807,\"85\":4.346456688,\"86\":4.137795271,\"87\":4.196850389,\"88\":4.220472437,\"89\":4.476377948,\"90\":4.401574799,\"91\":4.610236216,\"92\":4.968503932,\"93\":4.736220468,\"94\":5.204724404,\"95\":5.145669286,\"96\":5.1023622,\"97\":5.043307081,\"98\":5.291338577,\"99\":5.098425192,\"100\":5.34251968,\"101\":5.830708655,\"102\":5.610236215,\"103\":5.93307086,\"104\":5.905511805,\"105\":5.499999994,\"106\":5.523622042,\"107\":5.551181097,\"108\":5.732283459,\"109\":5.905511805,\"110\":5.972440939,\"111\":6.074803143,\"112\":6.094488183,\"113\":6.027559049,\"114\":6.236220466,\"115\":6.354330702,\"116\":6.523622041,\"117\":6.803149599,\"118\":6.393700781,\"119\":6.736220466,\"120\":6.791338576,\"121\":7.019685032,\"122\":7.110236213,\"123\":7.484251961,\"124\":7.464566922,\"125\":7.472440937,\"126\":7.645669284,\"127\":7.712598417,\"128\":8.078740149,\"129\":8.311023614,\"130\":8.618110227,\"131\":8.661417314,\"132\":8.992125975,\"133\":8.622047235,\"134\":null},\"NOAA Adjusted Sea Level\":{\"0\":null,\"1\":null,\"2\":null,\"3\":null,\"4\":null,\"5\":null,\"6\":null,\"7\":null,\"8\":null,\"9\":null,\"10\":null,\"11\":null,\"12\":null,\"13\":null,\"14\":null,\"15\":null,\"16\":null,\"17\":null,\"18\":null,\"19\":null,\"20\":null,\"21\":null,\"22\":null,\"23\":null,\"24\":null,\"25\":null,\"26\":null,\"27\":null,\"28\":null,\"29\":null,\"30\":null,\"31\":null,\"32\":null,\"33\":null,\"34\":null,\"35\":null,\"36\":null,\"37\":null,\"38\":null,\"39\":null,\"40\":null,\"41\":null,\"42\":null,\"43\":null,\"44\":null,\"45\":null,\"46\":null,\"47\":null,\"48\":null,\"49\":null,\"50\":null,\"51\":null,\"52\":null,\"53\":null,\"54\":null,\"55\":null,\"56\":null,\"57\":null,\"58\":null,\"59\":null,\"60\":null,\"61\":null,\"62\":null,\"63\":null,\"64\":null,\"65\":null,\"66\":null,\"67\":null,\"68\":null,\"69\":null,\"70\":null,\"71\":null,\"72\":null,\"73\":null,\"74\":null,\"75\":null,\"76\":null,\"77\":null,\"78\":null,\"79\":null,\"80\":null,\"81\":null,\"82\":null,\"83\":null,\"84\":null,\"85\":null,\"86\":null,\"87\":null,\"88\":null,\"89\":null,\"90\":null,\"91\":null,\"92\":null,\"93\":null,\"94\":null,\"95\":null,\"96\":null,\"97\":null,\"98\":null,\"99\":null,\"100\":null,\"101\":null,\"102\":null,\"103\":null,\"104\":null,\"105\":null,\"106\":null,\"107\":null,\"108\":null,\"109\":null,\"110\":null,\"111\":null,\"112\":null,\"113\":6.297493046,\"114\":6.310933553,\"115\":6.452568661,\"116\":6.62763131,\"117\":6.733920367,\"118\":6.865806069,\"119\":6.848689771,\"120\":6.920582014,\"121\":7.087460011,\"122\":7.319697525,\"123\":7.488352718,\"124\":7.507932839,\"125\":7.644563144,\"126\":7.697420009,\"127\":7.70214715,\"128\":7.90736541,\"129\":8.04635409,\"130\":8.122972567,\"131\":8.053065004,\"132\":8.457057629,\"133\":8.546648227,\"134\":8.663700393},\"Upper Error Bound\":{\"0\":0.952755905,\"1\":1.173228345,\"2\":0.464566929,\"3\":0.66535433,\"4\":1.464566928,\"5\":1.393700786,\"6\":1.255905511,\"7\":1.03543307,\"8\":1.118110235,\"9\":1.181102361,\"10\":1.255905511,\"11\":1.188976377,\"12\":1.314960629,\"13\":1.484251967,\"14\":1.153543306,\"15\":1.618110235,\"16\":1.303149605,\"17\":1.492125983,\"18\":1.818897636,\"19\":2.102362203,\"20\":1.846456691,\"21\":1.803149604,\"22\":1.972440943,\"23\":2.275590549,\"24\":1.86614173,\"25\":1.590551179,\"26\":1.83070866,\"27\":1.783464565,\"28\":1.669291337,\"29\":1.850393699,\"30\":1.846456691,\"31\":2.157480313,\"32\":2.035433069,\"33\":2.102362203,\"34\":2.338582675,\"35\":2.641732281,\"36\":2.543307084,\"37\":2.358267714,\"38\":2.29133858,\"39\":2.354330706,\"40\":2.417322832,\"41\":2.503937005,\"42\":2.472440942,\"43\":2.511811021,\"44\":2.228346454,\"45\":2.326771651,\"46\":2.586614171,\"47\":2.511811021,\"48\":2.334645667,\"49\":2.381889761,\"50\":2.535433068,\"51\":2.527559053,\"52\":2.740157478,\"53\":2.905511808,\"54\":2.696850391,\"55\":2.917322832,\"56\":2.759842517,\"57\":2.984251965,\"58\":3.08661417,\"59\":3.307086611,\"60\":3.055118107,\"61\":3.523622044,\"62\":3.523622044,\"63\":3.523622044,\"64\":3.267716532,\"65\":3.377952752,\"66\":3.669291335,\"67\":3.7519685,\"68\":3.929133854,\"69\":3.842519681,\"70\":3.909448815,\"71\":4.279527555,\"72\":4.173228342,\"73\":4.338582673,\"74\":4.216535429,\"75\":4.244094484,\"76\":4.039370075,\"77\":4.562992121,\"78\":4.606299208,\"79\":4.614173224,\"80\":4.763779523,\"81\":5.007874011,\"82\":4.803149601,\"83\":4.740157475,\"84\":4.433070862,\"85\":4.874015743,\"86\":4.65748031,\"87\":4.708661413,\"88\":4.748031491,\"89\":5.02755905,\"90\":4.9527559,\"91\":5.153543302,\"92\":5.511811018,\"93\":5.271653538,\"94\":5.740157474,\"95\":5.673228341,\"96\":5.63779527,\"97\":5.56299212,\"98\":5.818897632,\"99\":5.625984246,\"100\":5.854330703,\"101\":6.342519679,\"102\":6.106299206,\"103\":6.444881883,\"104\":6.401574797,\"105\":5.996062986,\"106\":6.019685033,\"107\":6.039370073,\"108\":6.22834645,\"109\":6.409448812,\"110\":6.492125978,\"111\":6.594488182,\"112\":6.622047237,\"113\":6.555118104,\"114\":6.763779521,\"115\":6.881889757,\"116\":7.051181095,\"117\":7.330708654,\"118\":6.937007867,\"119\":7.287401567,\"120\":7.334645662,\"121\":7.555118103,\"122\":7.653543299,\"123\":8.035433063,\"124\":8.015748023,\"125\":8.015748023,\"126\":8.18897637,\"127\":8.279527551,\"128\":8.622047235,\"129\":8.862204715,\"130\":9.185039361,\"131\":9.267716526,\"132\":9.661417313,\"133\":9.338582668,\"134\":null},\"Year\":{\"0\":\"1880\",\"1\":\"1881\",\"2\":\"1882\",\"3\":\"1883\",\"4\":\"1884\",\"5\":\"1885\",\"6\":\"1886\",\"7\":\"1887\",\"8\":\"1888\",\"9\":\"1889\",\"10\":\"1890\",\"11\":\"1891\",\"12\":\"1892\",\"13\":\"1893\",\"14\":\"1894\",\"15\":\"1895\",\"16\":\"1896\",\"17\":\"1897\",\"18\":\"1898\",\"19\":\"1899\",\"20\":\"1900\",\"21\":\"1901\",\"22\":\"1902\",\"23\":\"1903\",\"24\":\"1904\",\"25\":\"1905\",\"26\":\"1906\",\"27\":\"1907\",\"28\":\"1908\",\"29\":\"1909\",\"30\":\"1910\",\"31\":\"1911\",\"32\":\"1912\",\"33\":\"1913\",\"34\":\"1914\",\"35\":\"1915\",\"36\":\"1916\",\"37\":\"1917\",\"38\":\"1918\",\"39\":\"1919\",\"40\":\"1920\",\"41\":\"1921\",\"42\":\"1922\",\"43\":\"1923\",\"44\":\"1924\",\"45\":\"1925\",\"46\":\"1926\",\"47\":\"1927\",\"48\":\"1928\",\"49\":\"1929\",\"50\":\"1930\",\"51\":\"1931\",\"52\":\"1932\",\"53\":\"1933\",\"54\":\"1934\",\"55\":\"1935\",\"56\":\"1936\",\"57\":\"1937\",\"58\":\"1938\",\"59\":\"1939\",\"60\":\"1940\",\"61\":\"1941\",\"62\":\"1942\",\"63\":\"1943\",\"64\":\"1944\",\"65\":\"1945\",\"66\":\"1946\",\"67\":\"1947\",\"68\":\"1948\",\"69\":\"1949\",\"70\":\"1950\",\"71\":\"1951\",\"72\":\"1952\",\"73\":\"1953\",\"74\":\"1954\",\"75\":\"1955\",\"76\":\"1956\",\"77\":\"1957\",\"78\":\"1958\",\"79\":\"1959\",\"80\":\"1960\",\"81\":\"1961\",\"82\":\"1962\",\"83\":\"1963\",\"84\":\"1964\",\"85\":\"1965\",\"86\":\"1966\",\"87\":\"1967\",\"88\":\"1968\",\"89\":\"1969\",\"90\":\"1970\",\"91\":\"1971\",\"92\":\"1972\",\"93\":\"1973\",\"94\":\"1974\",\"95\":\"1975\",\"96\":\"1976\",\"97\":\"1977\",\"98\":\"1978\",\"99\":\"1979\",\"100\":\"1980\",\"101\":\"1981\",\"102\":\"1982\",\"103\":\"1983\",\"104\":\"1984\",\"105\":\"1985\",\"106\":\"1986\",\"107\":\"1987\",\"108\":\"1988\",\"109\":\"1989\",\"110\":\"1990\",\"111\":\"1991\",\"112\":\"1992\",\"113\":\"1993\",\"114\":\"1994\",\"115\":\"1995\",\"116\":\"1996\",\"117\":\"1997\",\"118\":\"1998\",\"119\":\"1999\",\"120\":\"2000\",\"121\":\"2001\",\"122\":\"2002\",\"123\":\"2003\",\"124\":\"2004\",\"125\":\"2005\",\"126\":\"2006\",\"127\":\"2007\",\"128\":\"2008\",\"129\":\"2009\",\"130\":\"2010\",\"131\":\"2011\",\"132\":\"2012\",\"133\":\"2013\",\"134\":\"2014\"}}'}"
            ]
          },
          "metadata": {
            "tags": []
          },
          "execution_count": 20
        }
      ]
    },
    {
      "cell_type": "code",
      "metadata": {
        "colab": {
          "base_uri": "https://localhost:8080/"
        },
        "id": "yQ85eWFCExDN",
        "outputId": "d23cbfea-6d69-4d37-c502-8e646f8edcd7"
      },
      "source": [
        "%ls"
      ],
      "execution_count": 15,
      "outputs": [
        {
          "output_type": "stream",
          "text": [
            "annual_temp_csv2.csv  epa-sea-level_json2.json  glaciers_csv.csv  \u001b[0m\u001b[01;34msample_data\u001b[0m/\n"
          ],
          "name": "stdout"
        }
      ]
    },
    {
      "cell_type": "code",
      "metadata": {
        "colab": {
          "base_uri": "https://localhost:8080/",
          "height": 195
        },
        "id": "IxF-jKXPRvwC",
        "outputId": "56887709-23c5-4cfd-90fd-ee175e16e350"
      },
      "source": [
        "# load in annual temp csv as dataframe\r\n",
        "annual_temp_df2 = pd.read_csv('annual_temp_csv2.csv')\r\n",
        "annual_temp_df2.head()"
      ],
      "execution_count": 16,
      "outputs": [
        {
          "output_type": "execute_result",
          "data": {
            "text/html": [
              "<div>\n",
              "<style scoped>\n",
              "    .dataframe tbody tr th:only-of-type {\n",
              "        vertical-align: middle;\n",
              "    }\n",
              "\n",
              "    .dataframe tbody tr th {\n",
              "        vertical-align: top;\n",
              "    }\n",
              "\n",
              "    .dataframe thead th {\n",
              "        text-align: right;\n",
              "    }\n",
              "</style>\n",
              "<table border=\"1\" class=\"dataframe\">\n",
              "  <thead>\n",
              "    <tr style=\"text-align: right;\">\n",
              "      <th></th>\n",
              "      <th>Source</th>\n",
              "      <th>Year</th>\n",
              "      <th>Mean</th>\n",
              "    </tr>\n",
              "  </thead>\n",
              "  <tbody>\n",
              "    <tr>\n",
              "      <th>0</th>\n",
              "      <td>GCAG</td>\n",
              "      <td>2016</td>\n",
              "      <td>0.9363</td>\n",
              "    </tr>\n",
              "    <tr>\n",
              "      <th>1</th>\n",
              "      <td>GISTEMP</td>\n",
              "      <td>2016</td>\n",
              "      <td>NaN</td>\n",
              "    </tr>\n",
              "    <tr>\n",
              "      <th>2</th>\n",
              "      <td>GCAG</td>\n",
              "      <td>2015</td>\n",
              "      <td>NaN</td>\n",
              "    </tr>\n",
              "    <tr>\n",
              "      <th>3</th>\n",
              "      <td>GISTEMP</td>\n",
              "      <td>2015</td>\n",
              "      <td>0.8700</td>\n",
              "    </tr>\n",
              "    <tr>\n",
              "      <th>4</th>\n",
              "      <td>GCAG</td>\n",
              "      <td>2014</td>\n",
              "      <td>0.7408</td>\n",
              "    </tr>\n",
              "  </tbody>\n",
              "</table>\n",
              "</div>"
            ],
            "text/plain": [
              "    Source  Year    Mean\n",
              "0     GCAG  2016  0.9363\n",
              "1  GISTEMP  2016     NaN\n",
              "2     GCAG  2015     NaN\n",
              "3  GISTEMP  2015  0.8700\n",
              "4     GCAG  2014  0.7408"
            ]
          },
          "metadata": {
            "tags": []
          },
          "execution_count": 16
        }
      ]
    },
    {
      "cell_type": "code",
      "metadata": {
        "colab": {
          "base_uri": "https://localhost:8080/",
          "height": 195
        },
        "id": "5YL7jPwSR0JG",
        "outputId": "60036c8b-02b7-459c-e10a-e3810c0f5cf5"
      },
      "source": [
        "# load in sea level json as dataframe\r\n",
        "sea_level_df = pd.read_json('epa-sea-level_json2.json')\r\n",
        "sea_level_df.head()"
      ],
      "execution_count": 17,
      "outputs": [
        {
          "output_type": "execute_result",
          "data": {
            "text/html": [
              "<div>\n",
              "<style scoped>\n",
              "    .dataframe tbody tr th:only-of-type {\n",
              "        vertical-align: middle;\n",
              "    }\n",
              "\n",
              "    .dataframe tbody tr th {\n",
              "        vertical-align: top;\n",
              "    }\n",
              "\n",
              "    .dataframe thead th {\n",
              "        text-align: right;\n",
              "    }\n",
              "</style>\n",
              "<table border=\"1\" class=\"dataframe\">\n",
              "  <thead>\n",
              "    <tr style=\"text-align: right;\">\n",
              "      <th></th>\n",
              "      <th>CSIRO Adjusted Sea Level</th>\n",
              "      <th>Lower Error Bound</th>\n",
              "      <th>NOAA Adjusted Sea Level</th>\n",
              "      <th>Upper Error Bound</th>\n",
              "      <th>Year</th>\n",
              "    </tr>\n",
              "  </thead>\n",
              "  <tbody>\n",
              "    <tr>\n",
              "      <th>0</th>\n",
              "      <td>0.000000</td>\n",
              "      <td>-0.952756</td>\n",
              "      <td>NaN</td>\n",
              "      <td>0.952756</td>\n",
              "      <td>1880</td>\n",
              "    </tr>\n",
              "    <tr>\n",
              "      <th>1</th>\n",
              "      <td>0.220472</td>\n",
              "      <td>-0.732283</td>\n",
              "      <td>NaN</td>\n",
              "      <td>1.173228</td>\n",
              "      <td>1881</td>\n",
              "    </tr>\n",
              "    <tr>\n",
              "      <th>2</th>\n",
              "      <td>-0.440945</td>\n",
              "      <td>-1.346457</td>\n",
              "      <td>NaN</td>\n",
              "      <td>0.464567</td>\n",
              "      <td>1882</td>\n",
              "    </tr>\n",
              "    <tr>\n",
              "      <th>3</th>\n",
              "      <td>-0.232283</td>\n",
              "      <td>-1.129921</td>\n",
              "      <td>NaN</td>\n",
              "      <td>0.665354</td>\n",
              "      <td>1883</td>\n",
              "    </tr>\n",
              "    <tr>\n",
              "      <th>4</th>\n",
              "      <td>0.590551</td>\n",
              "      <td>-0.283465</td>\n",
              "      <td>NaN</td>\n",
              "      <td>1.464567</td>\n",
              "      <td>1884</td>\n",
              "    </tr>\n",
              "  </tbody>\n",
              "</table>\n",
              "</div>"
            ],
            "text/plain": [
              "   CSIRO Adjusted Sea Level  Lower Error Bound  ...  Upper Error Bound  Year\n",
              "0                  0.000000          -0.952756  ...           0.952756  1880\n",
              "1                  0.220472          -0.732283  ...           1.173228  1881\n",
              "2                 -0.440945          -1.346457  ...           0.464567  1882\n",
              "3                 -0.232283          -1.129921  ...           0.665354  1883\n",
              "4                  0.590551          -0.283465  ...           1.464567  1884\n",
              "\n",
              "[5 rows x 5 columns]"
            ]
          },
          "metadata": {
            "tags": []
          },
          "execution_count": 17
        }
      ]
    },
    {
      "cell_type": "code",
      "metadata": {
        "colab": {
          "base_uri": "https://localhost:8080/",
          "height": 195
        },
        "id": "-s_s9DcpSTXJ",
        "outputId": "c78cf892-671a-4320-ff47-5052f69141d2"
      },
      "source": [
        "# 1: match data for common years between sea level data and annual temp data\r\n",
        "pd2_combined = pd.merge(annual_temp_df2, sea_level_df, on='Year')\r\n",
        "\r\n",
        "# only include years, mean annual temp, and NOAA Adjusted Sea Level columns\r\n",
        "pd2_combined = pd2_combined.drop(['Source', 'CSIRO Adjusted Sea Level', 'Lower Error Bound', 'Upper Error Bound'], axis = 1)\r\n",
        "pd2_combined.head()"
      ],
      "execution_count": 18,
      "outputs": [
        {
          "output_type": "execute_result",
          "data": {
            "text/html": [
              "<div>\n",
              "<style scoped>\n",
              "    .dataframe tbody tr th:only-of-type {\n",
              "        vertical-align: middle;\n",
              "    }\n",
              "\n",
              "    .dataframe tbody tr th {\n",
              "        vertical-align: top;\n",
              "    }\n",
              "\n",
              "    .dataframe thead th {\n",
              "        text-align: right;\n",
              "    }\n",
              "</style>\n",
              "<table border=\"1\" class=\"dataframe\">\n",
              "  <thead>\n",
              "    <tr style=\"text-align: right;\">\n",
              "      <th></th>\n",
              "      <th>Year</th>\n",
              "      <th>Mean</th>\n",
              "      <th>NOAA Adjusted Sea Level</th>\n",
              "    </tr>\n",
              "  </thead>\n",
              "  <tbody>\n",
              "    <tr>\n",
              "      <th>0</th>\n",
              "      <td>2014</td>\n",
              "      <td>0.7408</td>\n",
              "      <td>8.663700</td>\n",
              "    </tr>\n",
              "    <tr>\n",
              "      <th>1</th>\n",
              "      <td>2014</td>\n",
              "      <td>0.7400</td>\n",
              "      <td>8.663700</td>\n",
              "    </tr>\n",
              "    <tr>\n",
              "      <th>2</th>\n",
              "      <td>2013</td>\n",
              "      <td>0.6679</td>\n",
              "      <td>8.546648</td>\n",
              "    </tr>\n",
              "    <tr>\n",
              "      <th>3</th>\n",
              "      <td>2013</td>\n",
              "      <td>0.6500</td>\n",
              "      <td>8.546648</td>\n",
              "    </tr>\n",
              "    <tr>\n",
              "      <th>4</th>\n",
              "      <td>2012</td>\n",
              "      <td>0.6240</td>\n",
              "      <td>8.457058</td>\n",
              "    </tr>\n",
              "  </tbody>\n",
              "</table>\n",
              "</div>"
            ],
            "text/plain": [
              "   Year    Mean  NOAA Adjusted Sea Level\n",
              "0  2014  0.7408                 8.663700\n",
              "1  2014  0.7400                 8.663700\n",
              "2  2013  0.6679                 8.546648\n",
              "3  2013  0.6500                 8.546648\n",
              "4  2012  0.6240                 8.457058"
            ]
          },
          "metadata": {
            "tags": []
          },
          "execution_count": 18
        }
      ]
    },
    {
      "cell_type": "code",
      "metadata": {
        "colab": {
          "base_uri": "https://localhost:8080/",
          "height": 402
        },
        "id": "Lg-Cd2dPU6cX",
        "outputId": "d177a607-c87a-40b1-a14e-faea15d2f6f2"
      },
      "source": [
        "# 2: replace NaNs with median of column with Nans\r\n",
        "pd2_combined['Mean'] = pd2_combined['Mean'].fillna(pd2_combined['Mean'].median())\r\n",
        "pd2_combined['NOAA Adjusted Sea Level'] = pd2_combined['NOAA Adjusted Sea Level'].fillna(pd2_combined['NOAA Adjusted Sea Level'].median())\r\n",
        "pd2_combined"
      ],
      "execution_count": 19,
      "outputs": [
        {
          "output_type": "execute_result",
          "data": {
            "text/html": [
              "<div>\n",
              "<style scoped>\n",
              "    .dataframe tbody tr th:only-of-type {\n",
              "        vertical-align: middle;\n",
              "    }\n",
              "\n",
              "    .dataframe tbody tr th {\n",
              "        vertical-align: top;\n",
              "    }\n",
              "\n",
              "    .dataframe thead th {\n",
              "        text-align: right;\n",
              "    }\n",
              "</style>\n",
              "<table border=\"1\" class=\"dataframe\">\n",
              "  <thead>\n",
              "    <tr style=\"text-align: right;\">\n",
              "      <th></th>\n",
              "      <th>Year</th>\n",
              "      <th>Mean</th>\n",
              "      <th>NOAA Adjusted Sea Level</th>\n",
              "    </tr>\n",
              "  </thead>\n",
              "  <tbody>\n",
              "    <tr>\n",
              "      <th>0</th>\n",
              "      <td>2014</td>\n",
              "      <td>0.7408</td>\n",
              "      <td>8.663700</td>\n",
              "    </tr>\n",
              "    <tr>\n",
              "      <th>1</th>\n",
              "      <td>2014</td>\n",
              "      <td>0.7400</td>\n",
              "      <td>8.663700</td>\n",
              "    </tr>\n",
              "    <tr>\n",
              "      <th>2</th>\n",
              "      <td>2013</td>\n",
              "      <td>0.6679</td>\n",
              "      <td>8.546648</td>\n",
              "    </tr>\n",
              "    <tr>\n",
              "      <th>3</th>\n",
              "      <td>2013</td>\n",
              "      <td>0.6500</td>\n",
              "      <td>8.546648</td>\n",
              "    </tr>\n",
              "    <tr>\n",
              "      <th>4</th>\n",
              "      <td>2012</td>\n",
              "      <td>0.6240</td>\n",
              "      <td>8.457058</td>\n",
              "    </tr>\n",
              "    <tr>\n",
              "      <th>...</th>\n",
              "      <td>...</td>\n",
              "      <td>...</td>\n",
              "      <td>...</td>\n",
              "    </tr>\n",
              "    <tr>\n",
              "      <th>265</th>\n",
              "      <td>1882</td>\n",
              "      <td>-0.1000</td>\n",
              "      <td>7.498143</td>\n",
              "    </tr>\n",
              "    <tr>\n",
              "      <th>266</th>\n",
              "      <td>1881</td>\n",
              "      <td>-0.0628</td>\n",
              "      <td>7.498143</td>\n",
              "    </tr>\n",
              "    <tr>\n",
              "      <th>267</th>\n",
              "      <td>1881</td>\n",
              "      <td>-0.1200</td>\n",
              "      <td>7.498143</td>\n",
              "    </tr>\n",
              "    <tr>\n",
              "      <th>268</th>\n",
              "      <td>1880</td>\n",
              "      <td>-0.1148</td>\n",
              "      <td>7.498143</td>\n",
              "    </tr>\n",
              "    <tr>\n",
              "      <th>269</th>\n",
              "      <td>1880</td>\n",
              "      <td>-0.2000</td>\n",
              "      <td>7.498143</td>\n",
              "    </tr>\n",
              "  </tbody>\n",
              "</table>\n",
              "<p>270 rows × 3 columns</p>\n",
              "</div>"
            ],
            "text/plain": [
              "     Year    Mean  NOAA Adjusted Sea Level\n",
              "0    2014  0.7408                 8.663700\n",
              "1    2014  0.7400                 8.663700\n",
              "2    2013  0.6679                 8.546648\n",
              "3    2013  0.6500                 8.546648\n",
              "4    2012  0.6240                 8.457058\n",
              "..    ...     ...                      ...\n",
              "265  1882 -0.1000                 7.498143\n",
              "266  1881 -0.0628                 7.498143\n",
              "267  1881 -0.1200                 7.498143\n",
              "268  1880 -0.1148                 7.498143\n",
              "269  1880 -0.2000                 7.498143\n",
              "\n",
              "[270 rows x 3 columns]"
            ]
          },
          "metadata": {
            "tags": []
          },
          "execution_count": 19
        }
      ]
    },
    {
      "cell_type": "code",
      "metadata": {
        "id": "O-VkpeyFVD1Z"
      },
      "source": [
        "# 3: write function that computes covariance of the data sets\r\n",
        "import numpy as np\r\n",
        "\r\n",
        "def cov(x, y):\r\n",
        "\r\n",
        "  xbar = np.mean(x)\r\n",
        "  ybar = np.mean(y)\r\n",
        "  N = len(x)\r\n",
        "\r\n",
        "  cov = (sum((x - xbar) * (y - ybar))) / (N - 1)\r\n",
        "\r\n",
        "  return cov"
      ],
      "execution_count": 20,
      "outputs": []
    },
    {
      "cell_type": "code",
      "metadata": {
        "id": "8yPb_ftEYYp0",
        "colab": {
          "base_uri": "https://localhost:8080/"
        },
        "outputId": "6b69a26f-975b-4999-a7d7-bab1e36aa8d6"
      },
      "source": [
        "# 4: answer the following questions\r\n",
        "\r\n",
        "Temperature_list = pd2_combined['Mean'].tolist()\r\n",
        "Sea_level_list = pd2_combined['NOAA Adjusted Sea Level'].tolist()\r\n",
        "Year_list = pd2_combined['Year'].tolist()\r\n",
        "\r\n",
        "# do temperature and sea level positively or negatively covary?\r\n",
        "q1 = cov(Temperature_list, Sea_level_list)\r\n",
        "print (q1)\r\n",
        "\r\n",
        "# how does the sea level vary with Year?\r\n",
        "q2 = cov(Sea_level_list, Year_list)\r\n",
        "print (q2)\r\n",
        "\r\n",
        "# how does the mean temp vary with Year?\r\n",
        "q3 = cov(Temperature_list, Year_list)\r\n",
        "print (q3)\r\n",
        "\r\n",
        "# how does the mean temp vary with itself?\r\n",
        "q4 = cov(Temperature_list, Temperature_list)\r\n",
        "print (q4)"
      ],
      "execution_count": 21,
      "outputs": [
        {
          "output_type": "stream",
          "text": [
            "0.005665519296058933\n",
            "0.039023696657991554\n",
            "10.164185130111527\n",
            "0.09163598113451749\n"
          ],
          "name": "stdout"
        }
      ]
    },
    {
      "cell_type": "code",
      "metadata": {
        "id": "zC8455ykYrIq",
        "colab": {
          "base_uri": "https://localhost:8080/",
          "height": 136
        },
        "outputId": "abac9615-ce04-46b6-8c6d-89021bb95061"
      },
      "source": [
        "# check function against built-in pandas cov() function\r\n",
        "pd2_combined.cov()"
      ],
      "execution_count": 22,
      "outputs": [
        {
          "output_type": "execute_result",
          "data": {
            "text/html": [
              "<div>\n",
              "<style scoped>\n",
              "    .dataframe tbody tr th:only-of-type {\n",
              "        vertical-align: middle;\n",
              "    }\n",
              "\n",
              "    .dataframe tbody tr th {\n",
              "        vertical-align: top;\n",
              "    }\n",
              "\n",
              "    .dataframe thead th {\n",
              "        text-align: right;\n",
              "    }\n",
              "</style>\n",
              "<table border=\"1\" class=\"dataframe\">\n",
              "  <thead>\n",
              "    <tr style=\"text-align: right;\">\n",
              "      <th></th>\n",
              "      <th>Year</th>\n",
              "      <th>Mean</th>\n",
              "      <th>NOAA Adjusted Sea Level</th>\n",
              "    </tr>\n",
              "  </thead>\n",
              "  <tbody>\n",
              "    <tr>\n",
              "      <th>Year</th>\n",
              "      <td>1524.312268</td>\n",
              "      <td>10.164185</td>\n",
              "      <td>0.039024</td>\n",
              "    </tr>\n",
              "    <tr>\n",
              "      <th>Mean</th>\n",
              "      <td>10.164185</td>\n",
              "      <td>0.091636</td>\n",
              "      <td>0.005666</td>\n",
              "    </tr>\n",
              "    <tr>\n",
              "      <th>NOAA Adjusted Sea Level</th>\n",
              "      <td>0.039024</td>\n",
              "      <td>0.005666</td>\n",
              "      <td>0.083778</td>\n",
              "    </tr>\n",
              "  </tbody>\n",
              "</table>\n",
              "</div>"
            ],
            "text/plain": [
              "                                Year       Mean  NOAA Adjusted Sea Level\n",
              "Year                     1524.312268  10.164185                 0.039024\n",
              "Mean                       10.164185   0.091636                 0.005666\n",
              "NOAA Adjusted Sea Level     0.039024   0.005666                 0.083778"
            ]
          },
          "metadata": {
            "tags": []
          },
          "execution_count": 22
        }
      ]
    }
  ]
}